{
 "cells": [
  {
   "cell_type": "code",
   "execution_count": 729,
   "id": "11097150",
   "metadata": {},
   "outputs": [],
   "source": [
    "import os\n",
    "import torch\n",
    "import torch.nn as nn\n",
    "import torch.nn.parallel\n",
    "import torch.backends.cudnn as cudnn\n",
    "import torch.optim as optim\n",
    "import torch.utils.data\n",
    "import torchvision.datasets as datasets\n",
    "import torchvision.transforms as transforms\n",
    "from torchvision.utils import make_grid, save_image\n",
    "from torch.utils.data import Dataset, DataLoader\n",
    "from torch.nn import functional as F\n",
    "\n",
    "import imageio\n",
    "import numpy as np\n",
    "import matplotlib\n",
    "from matplotlib import pyplot as plt\n",
    "from tqdm import tqdm\n",
    "matplotlib.style.use('ggplot')"
   ]
  },
  {
   "cell_type": "code",
   "execution_count": 730,
   "id": "dc5cdf29",
   "metadata": {},
   "outputs": [],
   "source": [
    "class ZeldaLevelDataset(Dataset):\n",
    "    \"\"\"Zelda Game levels dataset.\"\"\"\n",
    "\n",
    "    def __init__(self, data_dir):\n",
    "        \"\"\"\n",
    "        Args:\n",
    "            csv_file (string): Path to the csv file with annotations.\n",
    "            root_dir (string): Directory with all the images.\n",
    "            transform (callable, optional): Optional transform to be applied\n",
    "                on a sample.\n",
    "        \"\"\"\n",
    "        self.data_dir = data_dir\n",
    "        self.levels = self.load_levels()\n",
    "\n",
    "    def __len__(self):\n",
    "        return len(self.levels)\n",
    "\n",
    "    def __getitem__(self, idx):\n",
    "        return self.levels[idx]\n",
    "    \n",
    "    def load_levels(self):\n",
    "        levels = []\n",
    "        directory = os.fsencode(self.data_dir)\n",
    "        for file in os.listdir(directory):\n",
    "            filename = os.fsdecode(file)\n",
    "            if filename.endswith(\".pt\"): \n",
    "                level = torch.load(self.data_dir + '/' + filename).float()\n",
    "                levels.append(level)\n",
    "        return levels\n",
    "                \n",
    "        "
   ]
  },
  {
   "cell_type": "code",
   "execution_count": 731,
   "id": "9d28c8e5",
   "metadata": {},
   "outputs": [
    {
     "name": "stdout",
     "output_type": "stream",
     "text": [
      "data size 1358\n"
     ]
    }
   ],
   "source": [
    "#transform = transforms.Compose([\n",
    "#                                transforms.ToTensor(),\n",
    "#                                transforms.Normalize((0.5,),(0.5,)),\n",
    "#])\n",
    "to_pil_image = transforms.ToPILImage()\n",
    "train_data = ZeldaLevelDataset('./data/tensorizedConv/')\n",
    "print(\"data size\", len(train_data))"
   ]
  },
  {
   "cell_type": "code",
   "execution_count": 732,
   "id": "4d6cad37",
   "metadata": {},
   "outputs": [],
   "source": [
    "# learning parameters\n",
    "no_cuda = False\n",
    "batch_size = 16\n",
    "epochs = 10000\n",
    "sample_size = 64 # fixed sample size\n",
    "nz = 8 # latent vector size\n",
    "seed = 2020\n",
    "temperature = 1.0\n",
    "hard = False\n",
    "categorical_dim = 10\n",
    "k = 1 # number of steps to apply to the discriminator\n",
    "is_cuda = not no_cuda and torch.cuda.is_available()\n",
    "device = torch.device('cuda' if is_cuda else 'cpu')\n",
    "torch.manual_seed(seed)\n",
    "if is_cuda:\n",
    "    torch.cuda.manual_seed(seed)"
   ]
  },
  {
   "cell_type": "code",
   "execution_count": 733,
   "id": "87e61a05",
   "metadata": {},
   "outputs": [],
   "source": [
    "train_loader = DataLoader(train_data, batch_size=batch_size, shuffle=True)"
   ]
  },
  {
   "cell_type": "code",
   "execution_count": 734,
   "id": "4973df19",
   "metadata": {},
   "outputs": [],
   "source": [
    "def weights_init(m):\n",
    "    classname = m.__class__.__name__\n",
    "    if classname.find('Conv') != -1:\n",
    "        torch.nn.init.normal_(m.weight, 0.0, 0.02)\n",
    "    elif classname.find('BatchNorm') != -1:\n",
    "        torch.nn.init.normal_(m.weight, 1.0, 0.02)\n",
    "        torch.nn.init.zeros_(m.bias)\n"
   ]
  },
  {
   "cell_type": "code",
   "execution_count": 735,
   "id": "ce783584",
   "metadata": {},
   "outputs": [],
   "source": [
    "def sample_gumbel(shape, eps=1e-20):\n",
    "    U = torch.rand(shape)\n",
    "    if is_cuda:\n",
    "        U = U.cuda()\n",
    "    return -torch.log(-torch.log(U + eps) + eps)\n",
    "\n",
    "def gumbel_softmax_sample(logits, temperature):\n",
    "    y = logits + sample_gumbel(logits.size())\n",
    "    return F.softmax(y / temperature, dim=-1)\n",
    "\n",
    "def gumbel_softmax(logits, temperature, hard=False):\n",
    "    \"\"\"\n",
    "    ST-gumple-softmax\n",
    "    input: [*, n_class]\n",
    "    return: flatten --> [*, n_class] an one-hot vector\n",
    "    \"\"\"\n",
    "    permuted_logits = logits.permute(0,2,3,1)\n",
    "    permuted_y = gumbel_softmax_sample(permuted_logits, temperature)\n",
    "    #if not hard:\n",
    "    #    return y.view(-1, nz * categorical_dim)\n",
    "    \n",
    "    shape = permuted_y.size()\n",
    "    _, ind = permuted_y.max(dim=-1)\n",
    "    y_hard = torch.zeros_like(permuted_y).view(-1, shape[-1])\n",
    "    y_hard.scatter_(1, ind.view(-1, 1), 1)\n",
    "    y_hard = y_hard.view(*shape)\n",
    "    # Set gradients w.r.t. y_hard gradients w.r.t. y\n",
    "    y_hard = (y_hard - permuted_y).detach() + permuted_y\n",
    "    y_final = y_hard.permute(0,3,1,2)\n",
    "    return y_final#.view(-1, latent_dim * categorical_dim)"
   ]
  },
  {
   "cell_type": "code",
   "execution_count": 736,
   "id": "e1706949",
   "metadata": {},
   "outputs": [],
   "source": [
    "class Reshape(nn.Module):\n",
    "    def __init__(self, *args):\n",
    "        super(Reshape, self).__init__()\n",
    "        self.shape = args\n",
    "\n",
    "    def forward(self, x):\n",
    "        return x.view(self.shape)"
   ]
  },
  {
   "cell_type": "code",
   "execution_count": 737,
   "id": "dc82f948",
   "metadata": {},
   "outputs": [
    {
     "name": "stdout",
     "output_type": "stream",
     "text": [
      "torch.Size([16, 10, 16, 11])\n"
     ]
    }
   ],
   "source": [
    "# testing\n",
    "print(iter(train_loader).next().shape)"
   ]
  },
  {
   "cell_type": "code",
   "execution_count": 738,
   "id": "e48a2626",
   "metadata": {},
   "outputs": [],
   "source": [
    "class Generator(nn.Module):\n",
    "    def __init__(self, nz):\n",
    "        super(Generator, self).__init__()\n",
    "        self.nz = nz\n",
    "        self.main = nn.Sequential(\n",
    "            nn.Linear(self.nz, 256),\n",
    "            nn.LeakyReLU(0.2),\n",
    "            nn.Linear(256, 512),\n",
    "            nn.LeakyReLU(0.2),\n",
    "            nn.Linear(512, 1024),\n",
    "            nn.LeakyReLU(0.2),\n",
    "            nn.Linear(1024, 2048),\n",
    "            nn.LeakyReLU(0.2),\n",
    "            nn.Linear(2048, 1760),\n",
    "            nn.Tanh(),\n",
    "        )\n",
    "    def forward(self, x):\n",
    "        return self.main(x).view(-1, 1, 16, 110)\n",
    "    \n",
    "class GeneratorConv(nn.Module):\n",
    "    def __init__(self, nz, temp):\n",
    "        super(GeneratorConv, self).__init__()\n",
    "        self.nz = nz\n",
    "        n_nodes = 64\n",
    "        self.main = nn.Sequential(\n",
    "            nn.Linear(nz, n_nodes),\n",
    "            nn.LeakyReLU(0.05),\n",
    "            Reshape(-1, 64, 1, 1),\n",
    "            nn.ConvTranspose2d(64, 48, 3, 2, bias=False),\n",
    "            #nn.BatchNorm2d(64),\n",
    "            #nn.ReLU(True),\n",
    "            \n",
    "            nn.LeakyReLU(0.2),\n",
    "            \n",
    "            nn.ConvTranspose2d(48, 32, 3, 2, bias=False),\n",
    "            \n",
    "            nn.LeakyReLU(0.2),\n",
    "            \n",
    "            nn.ConvTranspose2d(32, 16, 3, 1, bias=False),\n",
    "            \n",
    "            nn.LeakyReLU(0.2),\n",
    "            \n",
    "            nn.ConvTranspose2d(16, 10, (8,3), 1, bias=False),\n",
    "            #nn.BatchNorm2d(32),\n",
    "            #nn.ReLU(True),\n",
    "            #nn.LeakyReLU(0.2),\n",
    "            \n",
    "            #nn.ConvTranspose2d(32, 16, (2,2), 2, bias=False),\n",
    "            #nn.BatchNorm2d(16),\n",
    "            #nn.ReLU(True),\n",
    "            #nn.LeakyReLU(0.2),\n",
    "            \n",
    "            #nn.ConvTranspose2d(16, 10, (2,1), 2, bias=False),\n",
    "            #nn.Tanh()\n",
    "        )\n",
    "\n",
    "    def forward(self, x, temp, hard):\n",
    "        x = self.main(x)\n",
    "        y = gumbel_softmax(x, temp, hard)\n",
    "        z = F.softmax(x, dim=1)\n",
    "        return y, z"
   ]
  },
  {
   "cell_type": "code",
   "execution_count": 739,
   "id": "a5604a20",
   "metadata": {},
   "outputs": [
    {
     "name": "stdout",
     "output_type": "stream",
     "text": [
      "GeneratorConv(\n",
      "  (main): Sequential(\n",
      "    (0): Linear(in_features=8, out_features=64, bias=True)\n",
      "    (1): LeakyReLU(negative_slope=0.05)\n",
      "    (2): Reshape()\n",
      "    (3): ConvTranspose2d(64, 48, kernel_size=(3, 3), stride=(2, 2), bias=False)\n",
      "    (4): LeakyReLU(negative_slope=0.2)\n",
      "    (5): ConvTranspose2d(48, 32, kernel_size=(3, 3), stride=(2, 2), bias=False)\n",
      "    (6): LeakyReLU(negative_slope=0.2)\n",
      "    (7): ConvTranspose2d(32, 16, kernel_size=(3, 3), stride=(1, 1), bias=False)\n",
      "    (8): LeakyReLU(negative_slope=0.2)\n",
      "    (9): ConvTranspose2d(16, 10, kernel_size=(8, 3), stride=(1, 1), bias=False)\n",
      "  )\n",
      ")\n"
     ]
    }
   ],
   "source": [
    "generator = GeneratorConv(nz, temperature).to(device)\n",
    "#generator.apply(weights_init)\n",
    "print(generator)"
   ]
  },
  {
   "cell_type": "code",
   "execution_count": 740,
   "id": "9b01fc02",
   "metadata": {},
   "outputs": [
    {
     "name": "stdout",
     "output_type": "stream",
     "text": [
      "dis\n",
      "torch.Size([1, 16, 5, 5])\n",
      "torch.Size([1, 24, 2, 2])\n",
      "torch.Size([1, 96])\n",
      "torch.Size([1, 1])\n",
      "gen\n",
      "torch.Size([1, 64])\n",
      "torch.Size([1, 64, 1, 1])\n",
      "torch.Size([1, 48, 3, 3])\n",
      "torch.Size([1, 32, 7, 7])\n",
      "torch.Size([1, 16, 9, 9])\n",
      "torch.Size([1, 10, 16, 11])\n",
      "(tensor([[[[0., 0., 0.,  ..., 0., 0., 0.],\n",
      "          [0., 0., 0.,  ..., 0., 0., 0.],\n",
      "          [1., 0., 0.,  ..., 0., 0., 0.],\n",
      "          ...,\n",
      "          [0., 0., 0.,  ..., 1., 0., 0.],\n",
      "          [0., 0., 0.,  ..., 0., 0., 0.],\n",
      "          [1., 0., 1.,  ..., 0., 0., 0.]],\n",
      "\n",
      "         [[0., 0., 0.,  ..., 0., 0., 0.],\n",
      "          [0., 0., 0.,  ..., 0., 0., 1.],\n",
      "          [0., 1., 0.,  ..., 0., 0., 0.],\n",
      "          ...,\n",
      "          [0., 0., 0.,  ..., 0., 0., 0.],\n",
      "          [1., 0., 0.,  ..., 0., 0., 0.],\n",
      "          [0., 0., 0.,  ..., 0., 0., 0.]],\n",
      "\n",
      "         [[0., 0., 0.,  ..., 0., 0., 0.],\n",
      "          [0., 0., 0.,  ..., 0., 0., 0.],\n",
      "          [0., 0., 0.,  ..., 0., 0., 0.],\n",
      "          ...,\n",
      "          [1., 0., 0.,  ..., 0., 0., 0.],\n",
      "          [0., 0., 0.,  ..., 0., 0., 0.],\n",
      "          [0., 0., 0.,  ..., 0., 0., 0.]],\n",
      "\n",
      "         ...,\n",
      "\n",
      "         [[0., 0., 0.,  ..., 1., 0., 1.],\n",
      "          [1., 0., 0.,  ..., 0., 0., 0.],\n",
      "          [0., 0., 0.,  ..., 1., 0., 0.],\n",
      "          ...,\n",
      "          [0., 0., 1.,  ..., 0., 0., 0.],\n",
      "          [0., 0., 0.,  ..., 0., 0., 0.],\n",
      "          [0., 0., 0.,  ..., 1., 0., 0.]],\n",
      "\n",
      "         [[0., 0., 0.,  ..., 0., 1., 0.],\n",
      "          [0., 0., 0.,  ..., 0., 1., 0.],\n",
      "          [0., 0., 0.,  ..., 0., 0., 0.],\n",
      "          ...,\n",
      "          [0., 0., 0.,  ..., 0., 0., 1.],\n",
      "          [0., 0., 0.,  ..., 0., 0., 1.],\n",
      "          [0., 0., 0.,  ..., 0., 0., 1.]],\n",
      "\n",
      "         [[0., 0., 0.,  ..., 0., 0., 0.],\n",
      "          [0., 0., 0.,  ..., 1., 0., 0.],\n",
      "          [0., 0., 0.,  ..., 0., 1., 0.],\n",
      "          ...,\n",
      "          [0., 0., 0.,  ..., 0., 0., 0.],\n",
      "          [0., 0., 0.,  ..., 0., 0., 0.],\n",
      "          [0., 0., 0.,  ..., 0., 0., 0.]]]], grad_fn=<PermuteBackward0>), tensor([[[[0.1000, 0.1000, 0.1000,  ..., 0.1001, 0.1000, 0.1000],\n",
      "          [0.1000, 0.1000, 0.1001,  ..., 0.1001, 0.0999, 0.1000],\n",
      "          [0.1000, 0.0999, 0.1000,  ..., 0.0999, 0.1000, 0.1000],\n",
      "          ...,\n",
      "          [0.1000, 0.0999, 0.0999,  ..., 0.1000, 0.0998, 0.0999],\n",
      "          [0.1000, 0.1000, 0.1001,  ..., 0.0999, 0.1000, 0.0999],\n",
      "          [0.1000, 0.0999, 0.0999,  ..., 0.1000, 0.1000, 0.1000]],\n",
      "\n",
      "         [[0.1000, 0.1000, 0.1000,  ..., 0.1000, 0.1001, 0.1000],\n",
      "          [0.1000, 0.1001, 0.1000,  ..., 0.0999, 0.1000, 0.1000],\n",
      "          [0.0999, 0.1000, 0.0999,  ..., 0.0999, 0.0999, 0.1001],\n",
      "          ...,\n",
      "          [0.1000, 0.1000, 0.0999,  ..., 0.1002, 0.0999, 0.0999],\n",
      "          [0.1000, 0.1000, 0.1000,  ..., 0.0999, 0.0999, 0.0999],\n",
      "          [0.1000, 0.1000, 0.1000,  ..., 0.0999, 0.1000, 0.1000]],\n",
      "\n",
      "         [[0.1000, 0.1000, 0.1000,  ..., 0.1000, 0.1000, 0.1000],\n",
      "          [0.1000, 0.1001, 0.1000,  ..., 0.1000, 0.1001, 0.1000],\n",
      "          [0.1000, 0.1001, 0.1000,  ..., 0.1000, 0.1001, 0.1000],\n",
      "          ...,\n",
      "          [0.1001, 0.1000, 0.1000,  ..., 0.1000, 0.1000, 0.1000],\n",
      "          [0.1000, 0.1000, 0.1000,  ..., 0.1001, 0.1001, 0.1000],\n",
      "          [0.1000, 0.1000, 0.1000,  ..., 0.1000, 0.1000, 0.1000]],\n",
      "\n",
      "         ...,\n",
      "\n",
      "         [[0.1000, 0.1000, 0.1000,  ..., 0.1001, 0.1000, 0.1000],\n",
      "          [0.1000, 0.1000, 0.0998,  ..., 0.1001, 0.1000, 0.1000],\n",
      "          [0.1000, 0.1000, 0.1000,  ..., 0.1000, 0.1000, 0.1000],\n",
      "          ...,\n",
      "          [0.1000, 0.0999, 0.1000,  ..., 0.1000, 0.0999, 0.1000],\n",
      "          [0.1000, 0.1000, 0.1000,  ..., 0.0999, 0.1000, 0.1000],\n",
      "          [0.1000, 0.1000, 0.1000,  ..., 0.1000, 0.0999, 0.1000]],\n",
      "\n",
      "         [[0.1000, 0.1000, 0.1000,  ..., 0.0999, 0.1000, 0.1000],\n",
      "          [0.1000, 0.0999, 0.1001,  ..., 0.1001, 0.1000, 0.1000],\n",
      "          [0.1000, 0.1000, 0.1000,  ..., 0.1002, 0.1001, 0.1001],\n",
      "          ...,\n",
      "          [0.1000, 0.1000, 0.0999,  ..., 0.0998, 0.1000, 0.1000],\n",
      "          [0.1000, 0.1001, 0.0999,  ..., 0.1001, 0.1000, 0.1000],\n",
      "          [0.1000, 0.1000, 0.1000,  ..., 0.1000, 0.1000, 0.1000]],\n",
      "\n",
      "         [[0.1000, 0.1001, 0.1000,  ..., 0.0999, 0.1000, 0.1000],\n",
      "          [0.1000, 0.1000, 0.1000,  ..., 0.0998, 0.1000, 0.1000],\n",
      "          [0.1000, 0.0999, 0.1002,  ..., 0.1000, 0.1000, 0.1000],\n",
      "          ...,\n",
      "          [0.1000, 0.1001, 0.1000,  ..., 0.1000, 0.1001, 0.1000],\n",
      "          [0.1000, 0.1000, 0.1001,  ..., 0.1000, 0.0999, 0.1000],\n",
      "          [0.1000, 0.1000, 0.1000,  ..., 0.1000, 0.1000, 0.1000]]]],\n",
      "       grad_fn=<SoftmaxBackward0>))\n"
     ]
    }
   ],
   "source": [
    "# CONV shape tests\n",
    "test_level = torch.rand(1, 10, 16, 11)\n",
    "\n",
    "#conv1 = nn.Conv2d(10, 16, 4, 1, bias=False)\n",
    "#conv2 = nn.Conv2d(16, 32, 4, 1, bias=False)\n",
    "#conv3 = nn.Conv2d(32, 48, 4, 1, bias=False)\n",
    "#conv4 = nn.Conv2d(48, 64, (3,1), 1, bias=False)\n",
    "#flatt = nn.Flatten()\n",
    "#lin1 = nn.Linear(64*5*2, 128)\n",
    "\n",
    "conv1 = nn.Conv2d(10, 16, (8,3), 2, bias=False)\n",
    "conv2 = nn.Conv2d(16, 24, 3, 2, bias=False)\n",
    "flatt = nn.Flatten()\n",
    "lin1 = nn.Linear(96, 1)\n",
    "\n",
    "\n",
    "print(\"dis\")\n",
    "x = conv1(test_level)\n",
    "print(x.shape)\n",
    "x = conv2(x)\n",
    "print(x.shape)\n",
    "#x = conv3(x)\n",
    "#print(x.shape)\n",
    "#x = conv4(x)\n",
    "#print(x.shape)\n",
    "x = flatt(x)\n",
    "print(x.shape)\n",
    "x = lin1(x)\n",
    "print(x.shape)\n",
    "\n",
    "print(\"gen\")\n",
    "test_latent = torch.rand(1, 8)\n",
    "#deconv1 = nn.ConvTranspose2d(128, 64, (3,2), 1, bias=False)\n",
    "#deconv2 = nn.ConvTranspose2d(64, 32, (2,2), 1, bias=False)\n",
    "#deconv3 = nn.ConvTranspose2d(32, 16, (2,2), 2, bias=False)\n",
    "#deconv4 = nn.ConvTranspose2d(16, 10, (2,1),2, bias=False)\n",
    "#y = deconv1(test_latent)\n",
    "lin1 = nn.Linear(8, 64)\n",
    "reshape = Reshape(-1, 64, 1, 1)\n",
    "deconv1 = nn.ConvTranspose2d(64, 48, 3, 2, bias=False)\n",
    "deconv2 = nn.ConvTranspose2d(48, 32, 3, 2, bias=False)\n",
    "deconv3 = nn.ConvTranspose2d(32, 16, 3, 1, bias=False)\n",
    "deconv4 = nn.ConvTranspose2d(16, 10, (8,3), 1, bias=False)\n",
    "\n",
    "y = lin1(test_latent)\n",
    "print(y.shape)\n",
    "y = reshape(y)\n",
    "print(y.shape)\n",
    "y = deconv1(y)\n",
    "print(y.shape)\n",
    "y = deconv2(y)\n",
    "print(y.shape)\n",
    "y = deconv3(y)\n",
    "print(y.shape)\n",
    "y = deconv4(y)\n",
    "print(y.shape)\n",
    "print(generator(test_latent, temperature, hard))\n"
   ]
  },
  {
   "cell_type": "code",
   "execution_count": 741,
   "id": "2596c30b",
   "metadata": {},
   "outputs": [],
   "source": [
    "class Discriminator(nn.Module):\n",
    "    def __init__(self):\n",
    "        super(Discriminator, self).__init__()\n",
    "        self.n_input = 1760\n",
    "        self.main = nn.Sequential(\n",
    "            nn.Linear(self.n_input, 2048),\n",
    "            nn.LeakyReLU(0.2),\n",
    "            nn.Dropout(0.3),\n",
    "            nn.Linear(2048, 1024),\n",
    "            nn.LeakyReLU(0.2),\n",
    "            nn.Dropout(0.3),\n",
    "            nn.Linear(1024, 512),\n",
    "            nn.LeakyReLU(0.2),\n",
    "            nn.Dropout(0.3),\n",
    "            nn.Linear(512, 256),\n",
    "            nn.LeakyReLU(0.2),\n",
    "            nn.Dropout(0.3),\n",
    "            nn.Linear(256, 1),\n",
    "            nn.Sigmoid(),\n",
    "        )\n",
    "    def forward(self, x):\n",
    "        x = x.view(-1, 1760)\n",
    "        return self.main(x)\n",
    "\n",
    "class DiscriminatorConv(nn.Module):\n",
    "    def __init__(self):\n",
    "        super(DiscriminatorConv, self).__init__()\n",
    "        self.main = nn.Sequential(\n",
    "            # input is B x C x H x W\n",
    "            # B = 16, C = 10, H = 16, W = 11\n",
    "            nn.Conv2d(10, 16, (8,3), 2, bias=False),\n",
    "            # output:\n",
    "            # B = 16, C = 32, H = (in+2P-k)/S + 1 = (16+0-4)/2 + 1 = 7, W = (in+2P-k)/S + 1 = (11+0-3)/2 + 1 = 5\n",
    "            nn.LeakyReLU(0.2, inplace=True),\n",
    "            nn.Dropout(0.2),\n",
    "            nn.Conv2d(16, 24, 3, 2, bias=False),\n",
    "            # output:\n",
    "            # B = 16, C = 32, H = (in+2P-k)/S + 1 = (7+0-3)/2 + 1 = 3, W = (in+2P-k)/S + 1 = (5+0-3)/2 + 1 = 2\n",
    "            nn.BatchNorm2d(24),\n",
    "            nn.LeakyReLU(0.2, inplace=True),\n",
    "            nn.Dropout(0.2),\n",
    "            #nn.Conv2d(32, 64, 4, 1, bias=False),\n",
    "            # output:\n",
    "            # B = 16, C = 1, H = (in+2P-k)/S + 1 = (10+0-4)/2 + 1 = 7, W = (in+2P-k)/S + 1 = (5+0-4)/2 + 1 = 2\n",
    "            #nn.BatchNorm2d(64),\n",
    "            #nn.LeakyReLU(0.2, inplace=True),\n",
    "            #nn.Conv2d(64, 128, (3,1), 1, bias=False),\n",
    "            #nn.LeakyReLU(0.2, inplace=True),\n",
    "            nn.Flatten(),\n",
    "            nn.Linear(96, 1),\n",
    "            #nn.ReLU(),\n",
    "            #nn.Linear(256, 64),\n",
    "            #nn.ReLU(),\n",
    "            #nn.Linear(64, 16),\n",
    "            #nn.ReLU(),\n",
    "            #nn.Linear(16, 1),\n",
    "            nn.Sigmoid()\n",
    "        )\n",
    "\n",
    "    def forward(self, x):\n",
    "        return self.main(x)"
   ]
  },
  {
   "cell_type": "code",
   "execution_count": 742,
   "id": "95965560",
   "metadata": {},
   "outputs": [
    {
     "name": "stdout",
     "output_type": "stream",
     "text": [
      "DiscriminatorConv(\n",
      "  (main): Sequential(\n",
      "    (0): Conv2d(10, 16, kernel_size=(8, 3), stride=(2, 2), bias=False)\n",
      "    (1): LeakyReLU(negative_slope=0.2, inplace=True)\n",
      "    (2): Dropout(p=0.2, inplace=False)\n",
      "    (3): Conv2d(16, 24, kernel_size=(3, 3), stride=(2, 2), bias=False)\n",
      "    (4): BatchNorm2d(24, eps=1e-05, momentum=0.1, affine=True, track_running_stats=True)\n",
      "    (5): LeakyReLU(negative_slope=0.2, inplace=True)\n",
      "    (6): Dropout(p=0.2, inplace=False)\n",
      "    (7): Flatten(start_dim=1, end_dim=-1)\n",
      "    (8): Linear(in_features=96, out_features=1, bias=True)\n",
      "    (9): Sigmoid()\n",
      "  )\n",
      ")\n"
     ]
    }
   ],
   "source": [
    "discriminator = DiscriminatorConv().to(device)\n",
    "#discriminator.apply(weights_init)\n",
    "print(discriminator)"
   ]
  },
  {
   "cell_type": "code",
   "execution_count": 743,
   "id": "5a44611e",
   "metadata": {},
   "outputs": [],
   "source": [
    "\n",
    "temp_min = 0.5\n",
    "ANNEAL_RATE = 0.00003\n",
    "if is_cuda:\n",
    "    generator.cuda()\n",
    "    discriminator.cuda()"
   ]
  },
  {
   "cell_type": "code",
   "execution_count": 744,
   "id": "0d0616b6",
   "metadata": {},
   "outputs": [],
   "source": [
    "# function to create the noise vector\n",
    "def create_noise(sample_size, nz):\n",
    "    return torch.randn(sample_size, nz).to(device)"
   ]
  },
  {
   "cell_type": "code",
   "execution_count": 745,
   "id": "be52db09",
   "metadata": {},
   "outputs": [],
   "source": [
    "gan_criterion = nn.BCELoss()"
   ]
  },
  {
   "cell_type": "code",
   "execution_count": 746,
   "id": "bb4a7fee",
   "metadata": {},
   "outputs": [
    {
     "name": "stdout",
     "output_type": "stream",
     "text": [
      "tensor(9.7390)\n",
      "tensor(9.6694)\n",
      "tensor(9.6578)\n",
      "tensor(9.7118)\n",
      "tensor(9.7071)\n",
      "tensor(9.6864)\n",
      "tensor(9.7367)\n",
      "tensor(8.8034)\n",
      "tensor(9.6424)\n"
     ]
    }
   ],
   "source": [
    "from semantic_loss_pytorch import SemanticLoss\n",
    "sl = SemanticLoss(\"constraints/basic_constraint.sdd\", \"constraints/basic_constraint.vtree\")\n",
    "sl_constraints = []\n",
    "for i in range(10):\n",
    "    if i == 6:\n",
    "        continue\n",
    "    sl_constraints.append(SemanticLoss(f\"constraints/final/constraint_{i}.sdd\", f\"constraints/final/constraint_{i}.vtree\"))\n",
    "\n",
    "batch_size = 64\n",
    "# constraints over a 2x2 variable\n",
    "xlevel = torch.rand((batch_size, 10, 16, 11))\n",
    "#print(sl(probabilities=xlevel))\n",
    "xlevel = F.softmax(xlevel, dim=1)\n",
    "#print(sl(probabilities=xlevel))\n",
    "for i in range(len(sl_constraints)):\n",
    "    x = xlevel[:, i, :, :]\n",
    "    #print(x[0])\n",
    "    loss = sl_constraints[i](probabilities=x)\n",
    "    print(loss)\n"
   ]
  },
  {
   "cell_type": "code",
   "execution_count": 747,
   "id": "f80d197e",
   "metadata": {},
   "outputs": [],
   "source": [
    "#criterion = nn.BCEWithLogitsLoss()\n",
    "#criterion = can_loss\n",
    "\n",
    "losses_g = [] # to store generator loss after each epoch\n",
    "losses_d = [] # to store discriminator loss after each epoch\n",
    "images = [] # to store images generatd by the generator\n",
    "sats = []\n",
    "\n",
    "# optimizers\n",
    "optim_g = optim.Adam(generator.parameters(), lr=0.0002, betas=(0.5, 0.999))\n",
    "optim_d = optim.Adam(discriminator.parameters(), lr=0.0002, betas=(0.5, 0.999))\n",
    "\n",
    "real_label = 1.\n",
    "fake_label = 0.\n",
    "\n",
    "# create the noise vector\n",
    "noise = create_noise(64, nz)"
   ]
  },
  {
   "cell_type": "code",
   "execution_count": 748,
   "id": "b166dc75",
   "metadata": {},
   "outputs": [],
   "source": [
    "# to create real labels (1s)\n",
    "def label_real(size):\n",
    "    data = torch.ones(size, 1)\n",
    "    return data.to(device)\n",
    "# to create fake labels (0s)\n",
    "def label_fake(size):\n",
    "    data = torch.zeros(size, 1)\n",
    "    return data.to(device)"
   ]
  },
  {
   "cell_type": "code",
   "execution_count": 749,
   "id": "02918dc5",
   "metadata": {},
   "outputs": [],
   "source": [
    "# to save the images generated by the generator\n",
    "def save_generator_image(image, path):\n",
    "    save_image(image, path)"
   ]
  },
  {
   "cell_type": "code",
   "execution_count": 750,
   "id": "b0976260",
   "metadata": {},
   "outputs": [],
   "source": [
    "# function to train the discriminator network\n",
    "def train_discriminator(optimizer, data_real, temp, hard):\n",
    "    optimizer.zero_grad()\n",
    "    b_size = data_real.size(0)\n",
    "    \n",
    "    real_preds = discriminator(data_real)\n",
    "    real_label = label_real(b_size)\n",
    "    real_loss = gan_criterion(real_preds, real_label)\n",
    "    real_score = torch.mean(real_preds).item()\n",
    "    \n",
    "    latent = create_noise(b_size, nz)\n",
    "    fake_levels, _ = generator(latent, temp, hard)\n",
    "    \n",
    "    fake_preds = discriminator(fake_levels)\n",
    "    fake_label = label_fake(b_size)\n",
    "    fake_loss = gan_criterion(fake_preds, fake_label)\n",
    "    fake_score = torch.mean(fake_preds).item()\n",
    "    \n",
    "    loss = real_loss + fake_loss\n",
    "    loss.backward()\n",
    "    optimizer.step()\n",
    "    \n",
    "    return loss.item(), real_score, fake_score"
   ]
  },
  {
   "cell_type": "code",
   "execution_count": 751,
   "id": "a3b1d749",
   "metadata": {},
   "outputs": [
    {
     "name": "stdout",
     "output_type": "stream",
     "text": [
      "tensor(56448.2969)\n",
      "tensor(18.4207)\n"
     ]
    }
   ],
   "source": [
    "def wall_var(fake_levels):\n",
    "    b_size = fake_levels.shape[0]\n",
    "    \n",
    "    top_outer_wall = torch.prod(fake_levels[:, 8, 0, :].view(b_size, -1), dim=1)\n",
    "    bottom_outer_wall = torch.prod(fake_levels[:, 8, 15, :].view(b_size, -1), dim=1)\n",
    "    left_outer_wall = torch.prod(fake_levels[:, 8, 1:15, 0].view(b_size, -1), dim=1)\n",
    "    right_outer_wall = torch.prod(fake_levels[:, 8, 1:15, 10].view(b_size, -1), dim=1)\n",
    "    \n",
    "    outer_walls = top_outer_wall * bottom_outer_wall * left_outer_wall * right_outer_wall\n",
    "    return outer_walls.unsqueeze(1)\n",
    "    \n",
    "def semantic_loss(fake_levels):\n",
    "    outer_walls = wall_var(fake_levels) + 1e-8\n",
    "    #print(torch.sum(outer_walls))\n",
    "    loss = sl(probabilities=outer_walls)\n",
    "    return loss\n",
    "\n",
    "rndtest = torch.rand(64, 10, 16, 11)\n",
    "print(torch.sum(rndtest))\n",
    "print(semantic_loss(torch.rand(64, 10, 16, 11)))"
   ]
  },
  {
   "cell_type": "code",
   "execution_count": 752,
   "id": "0aab648b",
   "metadata": {},
   "outputs": [],
   "source": [
    "# function to train the generator network\n",
    "def train_generator(optimizer, temp, hard, b_size):\n",
    "    optimizer.zero_grad()\n",
    "    \n",
    "    latent = create_noise(b_size, nz)\n",
    "    fake_levels_discrete, fake_levels_probs = generator(latent, temp, hard)\n",
    "    \n",
    "    preds = discriminator(fake_levels_discrete)\n",
    "    label = label_real(b_size)\n",
    "    adversarial_loss = gan_criterion(preds, label)\n",
    "    #constraint_loss = can_loss(fake_levels)\n",
    "    \n",
    "    #loss = adversarial_loss + constraint_loss\n",
    "    #selected = fake_levels[:, 8, 0, :].unsqueeze(2)\n",
    "    #opposite = 1 - selected\n",
    "    #third_tensor = torch.cat((selected, opposite), 2)\n",
    "    \n",
    "    #loss = torch.tensor(0.0)\n",
    "    #with io.capture_output() as captured:\n",
    "    #    for i in range(third_tensor.shape[0]):\n",
    "    #        third_tensor_one = third_tensor[i]\n",
    "#\n",
    "    #        loss += circuit_cons(third_tensor_one)\n",
    "    #loss /= b_size\n",
    "    constraint_loss = 0.0\n",
    "    \n",
    "    #for i in range(len(sl_constraints)):\n",
    "    #    x = fake_levels_probs[:, i, :, :]\n",
    "    #    constraint_loss += sl_constraints[i](probabilities=x)\n",
    "        \n",
    "    #x = fake_levels_probs[:, 8, :, :]\n",
    "    #constraint_loss = sl(probabilities=fake_levels_probs)\n",
    "    #print(torch.sum(fake_levels_probs))\n",
    "    constraint_loss = semantic_loss(fake_levels_probs)\n",
    "    #print(constraint_loss)\n",
    "    \n",
    "    loss = adversarial_loss + constraint_loss\n",
    "    \n",
    "    loss.backward()\n",
    "    optimizer.step()\n",
    "    \n",
    "    #loss_constraint = can_loss(data_fake)\n",
    "    #loss_constraint.backward()\n",
    "    \n",
    "    return loss.item(), constraint_loss.item()"
   ]
  },
  {
   "cell_type": "code",
   "execution_count": 753,
   "id": "6528ccb4",
   "metadata": {},
   "outputs": [],
   "source": [
    "def transform_to_image_format(level):\n",
    "    colorR = torch.tensor([0.69,0.3, 0.8,0,   0.06,0.08,0.52,0.3, 0.26,0])\n",
    "    colorG = torch.tensor([0.69,1,   0,  0.14,0.12,0.94,0.13,0.52,0.14,0])\n",
    "    colorB = torch.tensor([0.69,1,   0.1,0.8 ,0.35,0.33,0.08,0.08,0.31,0])\n",
    "    \n",
    "    colorMap = torch.tensor([[0.69,0.3, 0.8,0,   0.06,0.08,0.52,0.3, 0.26,0],\n",
    "                            [0.69,1,   0,  0.14,0.12,0.94,0.13,0.52,0.14,0],\n",
    "                            [0.69,1,   0.1,0.8 ,0.35,0.33,0.08,0.08,0.31,0]]).transpose(0,1)\n",
    "    permuted_level = level.permute(0,2,3,1)\n",
    "    \n",
    "    colored_permuted_level = torch.matmul(permuted_level,colorMap)\n",
    "    colored_level = colored_permuted_level.permute(0,3,1,2)\n",
    "    \n",
    "    return colored_level"
   ]
  },
  {
   "cell_type": "code",
   "execution_count": 754,
   "id": "f6ca43c5",
   "metadata": {},
   "outputs": [
    {
     "data": {
      "text/plain": [
       "DiscriminatorConv(\n",
       "  (main): Sequential(\n",
       "    (0): Conv2d(10, 16, kernel_size=(8, 3), stride=(2, 2), bias=False)\n",
       "    (1): LeakyReLU(negative_slope=0.2, inplace=True)\n",
       "    (2): Dropout(p=0.2, inplace=False)\n",
       "    (3): Conv2d(16, 24, kernel_size=(3, 3), stride=(2, 2), bias=False)\n",
       "    (4): BatchNorm2d(24, eps=1e-05, momentum=0.1, affine=True, track_running_stats=True)\n",
       "    (5): LeakyReLU(negative_slope=0.2, inplace=True)\n",
       "    (6): Dropout(p=0.2, inplace=False)\n",
       "    (7): Flatten(start_dim=1, end_dim=-1)\n",
       "    (8): Linear(in_features=96, out_features=1, bias=True)\n",
       "    (9): Sigmoid()\n",
       "  )\n",
       ")"
      ]
     },
     "execution_count": 754,
     "metadata": {},
     "output_type": "execute_result"
    }
   ],
   "source": [
    "generator.train()\n",
    "discriminator.train()"
   ]
  },
  {
   "cell_type": "code",
   "execution_count": null,
   "id": "48768082",
   "metadata": {},
   "outputs": [
    {
     "name": "stderr",
     "output_type": "stream",
     "text": [
      "85it [00:03, 21.97it/s]                                                                                                                                                                                                                       \n"
     ]
    },
    {
     "name": "stdout",
     "output_type": "stream",
     "text": [
      "Epoch 0 of 10000\n",
      "Generator loss: 19.075162618300492, Discriminator loss: 1.0881056904792785, Satisfaction: 18.42068099975586\n"
     ]
    },
    {
     "name": "stderr",
     "output_type": "stream",
     "text": [
      "85it [00:03, 26.84it/s]                                                                                                                                                                                                                       \n"
     ]
    },
    {
     "name": "stdout",
     "output_type": "stream",
     "text": [
      "Epoch 1 of 10000\n",
      "Generator loss: 19.194301717421588, Discriminator loss: 0.9088693331269657, Satisfaction: 18.42068099975586\n"
     ]
    },
    {
     "name": "stderr",
     "output_type": "stream",
     "text": [
      "85it [00:02, 29.78it/s]                                                                                                                                                                                                                       \n"
     ]
    },
    {
     "name": "stdout",
     "output_type": "stream",
     "text": [
      "Epoch 2 of 10000\n",
      "Generator loss: 19.566594987757064, Discriminator loss: 0.6403715067050036, Satisfaction: 18.42068099975586\n"
     ]
    },
    {
     "name": "stderr",
     "output_type": "stream",
     "text": [
      "85it [00:03, 27.77it/s]                                                                                                                                                                                                                       \n"
     ]
    },
    {
     "name": "stdout",
     "output_type": "stream",
     "text": [
      "Epoch 3 of 10000\n",
      "Generator loss: 19.896893534940833, Discriminator loss: 0.45952771516407237, Satisfaction: 18.42068099975586\n"
     ]
    },
    {
     "name": "stderr",
     "output_type": "stream",
     "text": [
      "85it [00:04, 18.18it/s]                                                                                                                                                                                                                       \n"
     ]
    },
    {
     "name": "stdout",
     "output_type": "stream",
     "text": [
      "Epoch 4 of 10000\n",
      "Generator loss: 20.12511230917538, Discriminator loss: 0.3281862544662812, Satisfaction: 18.42068099975586\n"
     ]
    },
    {
     "name": "stderr",
     "output_type": "stream",
     "text": [
      "85it [00:07, 11.55it/s]                                                                                                                                                                                                                       \n"
     ]
    },
    {
     "name": "stdout",
     "output_type": "stream",
     "text": [
      "Epoch 5 of 10000\n",
      "Generator loss: 20.208732470344096, Discriminator loss: 0.28268041172448327, Satisfaction: 18.42068099975586\n"
     ]
    },
    {
     "name": "stderr",
     "output_type": "stream",
     "text": [
      "85it [00:07, 11.41it/s]                                                                                                                                                                                                                       \n"
     ]
    },
    {
     "name": "stdout",
     "output_type": "stream",
     "text": [
      "Epoch 6 of 10000\n",
      "Generator loss: 20.36926846223719, Discriminator loss: 0.23949893590281993, Satisfaction: 18.42068099975586\n"
     ]
    },
    {
     "name": "stderr",
     "output_type": "stream",
     "text": [
      "85it [00:08, 10.02it/s]                                                                                                                                                                                                                       \n"
     ]
    },
    {
     "name": "stdout",
     "output_type": "stream",
     "text": [
      "Epoch 7 of 10000\n",
      "Generator loss: 20.534134876026826, Discriminator loss: 0.20407806126510394, Satisfaction: 18.42068099975586\n"
     ]
    },
    {
     "name": "stderr",
     "output_type": "stream",
     "text": [
      "85it [00:09,  8.78it/s]                                                                                                                                                                                                                       \n"
     ]
    },
    {
     "name": "stdout",
     "output_type": "stream",
     "text": [
      "Epoch 8 of 10000\n",
      "Generator loss: 20.77143061020795, Discriminator loss: 0.1607602043186917, Satisfaction: 18.42068099975586\n"
     ]
    },
    {
     "name": "stderr",
     "output_type": "stream",
     "text": [
      "85it [00:12,  6.60it/s]                                                                                                                                                                                                                       \n"
     ]
    },
    {
     "name": "stdout",
     "output_type": "stream",
     "text": [
      "Epoch 9 of 10000\n",
      "Generator loss: 20.97456476548139, Discriminator loss: 0.13586334708858938, Satisfaction: 18.42068099975586\n"
     ]
    },
    {
     "name": "stderr",
     "output_type": "stream",
     "text": [
      "85it [00:14,  6.05it/s]                                                                                                                                                                                                                       \n"
     ]
    },
    {
     "name": "stdout",
     "output_type": "stream",
     "text": [
      "Epoch 10 of 10000\n",
      "Generator loss: 21.189156700583066, Discriminator loss: 0.10872777121908525, Satisfaction: 18.42068099975586\n"
     ]
    },
    {
     "name": "stderr",
     "output_type": "stream",
     "text": [
      "85it [00:12,  6.65it/s]                                                                                                                                                                                                                       \n"
     ]
    },
    {
     "name": "stdout",
     "output_type": "stream",
     "text": [
      "Epoch 11 of 10000\n",
      "Generator loss: 21.360600550034466, Discriminator loss: 0.08954713397166308, Satisfaction: 18.42068099975586\n"
     ]
    },
    {
     "name": "stderr",
     "output_type": "stream",
     "text": [
      "85it [00:16,  5.25it/s]                                                                                                                                                                                                                       \n"
     ]
    },
    {
     "name": "stdout",
     "output_type": "stream",
     "text": [
      "Epoch 12 of 10000\n",
      "Generator loss: 21.593450456507064, Discriminator loss: 0.07586674624506165, Satisfaction: 18.42068099975586\n"
     ]
    },
    {
     "name": "stderr",
     "output_type": "stream",
     "text": [
      "85it [00:16,  5.08it/s]                                                                                                                                                                                                                       \n"
     ]
    },
    {
     "name": "stdout",
     "output_type": "stream",
     "text": [
      "Epoch 13 of 10000\n",
      "Generator loss: 21.724570285572725, Discriminator loss: 0.06441323349581045, Satisfaction: 18.42068099975586\n"
     ]
    },
    {
     "name": "stderr",
     "output_type": "stream",
     "text": [
      "85it [00:13,  6.42it/s]                                                                                                                                                                                                                       \n"
     ]
    },
    {
     "name": "stdout",
     "output_type": "stream",
     "text": [
      "Epoch 14 of 10000\n",
      "Generator loss: 21.922811059390796, Discriminator loss: 0.05690219840582679, Satisfaction: 18.42068099975586\n"
     ]
    },
    {
     "name": "stderr",
     "output_type": "stream",
     "text": [
      "85it [00:12,  6.82it/s]                                                                                                                                                                                                                       \n"
     ]
    },
    {
     "name": "stdout",
     "output_type": "stream",
     "text": [
      "Epoch 15 of 10000\n",
      "Generator loss: 22.07086908677045, Discriminator loss: 0.0478101970956606, Satisfaction: 18.42068099975586\n"
     ]
    },
    {
     "name": "stderr",
     "output_type": "stream",
     "text": [
      "85it [00:14,  5.88it/s]                                                                                                                                                                                                                       \n"
     ]
    },
    {
     "name": "stdout",
     "output_type": "stream",
     "text": [
      "Epoch 16 of 10000\n",
      "Generator loss: 22.212563346414004, Discriminator loss: 0.040938207419479594, Satisfaction: 18.42068099975586\n"
     ]
    },
    {
     "name": "stderr",
     "output_type": "stream",
     "text": [
      "85it [00:13,  6.49it/s]                                                                                                                                                                                                                       \n"
     ]
    },
    {
     "name": "stdout",
     "output_type": "stream",
     "text": [
      "Epoch 17 of 10000\n",
      "Generator loss: 22.33782299266142, Discriminator loss: 0.03581998841289212, Satisfaction: 18.42068099975586\n"
     ]
    },
    {
     "name": "stderr",
     "output_type": "stream",
     "text": [
      "85it [00:12,  6.76it/s]                                                                                                                                                                                                                       \n"
     ]
    },
    {
     "name": "stdout",
     "output_type": "stream",
     "text": [
      "Epoch 18 of 10000\n",
      "Generator loss: 22.52059741300695, Discriminator loss: 0.03069872558116913, Satisfaction: 18.42068099975586\n"
     ]
    },
    {
     "name": "stderr",
     "output_type": "stream",
     "text": [
      "85it [00:19,  4.29it/s]                                                                                                                                                                                                                       \n"
     ]
    },
    {
     "name": "stdout",
     "output_type": "stream",
     "text": [
      "Epoch 19 of 10000\n",
      "Generator loss: 22.640865281048942, Discriminator loss: 0.028002746972967597, Satisfaction: 18.42068099975586\n"
     ]
    },
    {
     "name": "stderr",
     "output_type": "stream",
     "text": [
      "85it [00:15,  5.57it/s]                                                                                                                                                                                                                       \n"
     ]
    },
    {
     "name": "stdout",
     "output_type": "stream",
     "text": [
      "Epoch 20 of 10000\n",
      "Generator loss: 22.749217852424174, Discriminator loss: 0.025331605927032583, Satisfaction: 18.42068099975586\n"
     ]
    },
    {
     "name": "stderr",
     "output_type": "stream",
     "text": [
      "85it [00:13,  6.10it/s]                                                                                                                                                                                                                       \n"
     ]
    },
    {
     "name": "stdout",
     "output_type": "stream",
     "text": [
      "Epoch 21 of 10000\n",
      "Generator loss: 22.858367044785442, Discriminator loss: 0.022093500733813817, Satisfaction: 18.42068099975586\n"
     ]
    },
    {
     "name": "stderr",
     "output_type": "stream",
     "text": [
      "85it [00:19,  4.46it/s]                                                                                                                                                                                                                       \n"
     ]
    },
    {
     "name": "stdout",
     "output_type": "stream",
     "text": [
      "Epoch 22 of 10000\n",
      "Generator loss: 22.972010354434744, Discriminator loss: 0.019178817004841916, Satisfaction: 18.42068099975586\n"
     ]
    },
    {
     "name": "stderr",
     "output_type": "stream",
     "text": [
      "85it [00:20,  4.20it/s]                                                                                                                                                                                                                       \n"
     ]
    },
    {
     "name": "stdout",
     "output_type": "stream",
     "text": [
      "Epoch 23 of 10000\n",
      "Generator loss: 23.087611276963177, Discriminator loss: 0.01702105173950686, Satisfaction: 18.42068099975586\n"
     ]
    },
    {
     "name": "stderr",
     "output_type": "stream",
     "text": [
      "85it [00:25,  3.34it/s]                                                                                                                                                                                                                       \n"
     ]
    },
    {
     "name": "stdout",
     "output_type": "stream",
     "text": [
      "Epoch 24 of 10000\n",
      "Generator loss: 23.243638543521655, Discriminator loss: 0.015496489537112853, Satisfaction: 18.42068099975586\n"
     ]
    },
    {
     "name": "stderr",
     "output_type": "stream",
     "text": [
      "85it [00:21,  3.96it/s]                                                                                                                                                                                                                       \n"
     ]
    },
    {
     "name": "stdout",
     "output_type": "stream",
     "text": [
      "Epoch 25 of 10000\n",
      "Generator loss: 23.315800184362075, Discriminator loss: 0.01471279474961407, Satisfaction: 18.42068099975586\n"
     ]
    },
    {
     "name": "stderr",
     "output_type": "stream",
     "text": [
      "85it [00:21,  4.02it/s]                                                                                                                                                                                                                       \n"
     ]
    },
    {
     "name": "stdout",
     "output_type": "stream",
     "text": [
      "Epoch 26 of 10000\n",
      "Generator loss: 23.453754245533663, Discriminator loss: 0.013898564875125885, Satisfaction: 18.42068099975586\n"
     ]
    },
    {
     "name": "stderr",
     "output_type": "stream",
     "text": [
      "85it [00:35,  2.40it/s]                                                                                                                                                                                                                       \n"
     ]
    },
    {
     "name": "stdout",
     "output_type": "stream",
     "text": [
      "Epoch 27 of 10000\n",
      "Generator loss: 23.482887066111847, Discriminator loss: 0.012042620323379251, Satisfaction: 18.42068099975586\n"
     ]
    },
    {
     "name": "stderr",
     "output_type": "stream",
     "text": [
      "85it [00:19,  4.34it/s]                                                                                                                                                                                                                       \n"
     ]
    },
    {
     "name": "stdout",
     "output_type": "stream",
     "text": [
      "Epoch 28 of 10000\n",
      "Generator loss: 23.63126891641056, Discriminator loss: 0.011381559879245128, Satisfaction: 18.42068099975586\n"
     ]
    },
    {
     "name": "stderr",
     "output_type": "stream",
     "text": [
      "85it [00:18,  4.64it/s]                                                                                                                                                                                                                       \n"
     ]
    },
    {
     "name": "stdout",
     "output_type": "stream",
     "text": [
      "Epoch 29 of 10000\n",
      "Generator loss: 23.715542176190546, Discriminator loss: 0.009975401558639373, Satisfaction: 18.42068099975586\n"
     ]
    },
    {
     "name": "stderr",
     "output_type": "stream",
     "text": [
      "85it [00:23,  3.62it/s]                                                                                                                                                                                                                       \n"
     ]
    },
    {
     "name": "stdout",
     "output_type": "stream",
     "text": [
      "Epoch 30 of 10000\n",
      "Generator loss: 23.813566970825196, Discriminator loss: 0.009315113487708217, Satisfaction: 18.42068099975586\n"
     ]
    },
    {
     "name": "stderr",
     "output_type": "stream",
     "text": [
      "85it [00:28,  2.98it/s]                                                                                                                                                                                                                       \n"
     ]
    },
    {
     "name": "stdout",
     "output_type": "stream",
     "text": [
      "Epoch 31 of 10000\n",
      "Generator loss: 23.925601959228516, Discriminator loss: 0.008393060142064796, Satisfaction: 18.42068099975586\n"
     ]
    },
    {
     "name": "stderr",
     "output_type": "stream",
     "text": [
      "85it [00:16,  5.16it/s]                                                                                                                                                                                                                       \n"
     ]
    },
    {
     "name": "stdout",
     "output_type": "stream",
     "text": [
      "Epoch 32 of 10000\n",
      "Generator loss: 23.995920383228974, Discriminator loss: 0.007721137956661336, Satisfaction: 18.42068099975586\n"
     ]
    },
    {
     "name": "stderr",
     "output_type": "stream",
     "text": [
      "85it [00:16,  5.22it/s]                                                                                                                                                                                                                       \n"
     ]
    },
    {
     "name": "stdout",
     "output_type": "stream",
     "text": [
      "Epoch 33 of 10000\n",
      "Generator loss: 24.12461491753073, Discriminator loss: 0.007535987380234634, Satisfaction: 18.42068099975586\n"
     ]
    },
    {
     "name": "stderr",
     "output_type": "stream",
     "text": [
      "85it [00:15,  5.50it/s]                                                                                                                                                                                                                       \n"
     ]
    },
    {
     "name": "stdout",
     "output_type": "stream",
     "text": [
      "Epoch 34 of 10000\n",
      "Generator loss: 24.144817150340362, Discriminator loss: 0.0068934607812586954, Satisfaction: 18.42068099975586\n"
     ]
    },
    {
     "name": "stderr",
     "output_type": "stream",
     "text": [
      "85it [00:15,  5.59it/s]                                                                                                                                                                                                                       \n"
     ]
    },
    {
     "name": "stdout",
     "output_type": "stream",
     "text": [
      "Epoch 35 of 10000\n",
      "Generator loss: 24.234077004825366, Discriminator loss: 0.006286041663192651, Satisfaction: 18.42068099975586\n"
     ]
    },
    {
     "name": "stderr",
     "output_type": "stream",
     "text": [
      "85it [00:20,  4.19it/s]                                                                                                                                                                                                                       \n"
     ]
    },
    {
     "name": "stdout",
     "output_type": "stream",
     "text": [
      "Epoch 36 of 10000\n",
      "Generator loss: 24.327655298569624, Discriminator loss: 0.0060204869848402105, Satisfaction: 18.42068099975586\n"
     ]
    },
    {
     "name": "stderr",
     "output_type": "stream",
     "text": [
      "85it [00:29,  2.83it/s]                                                                                                                                                                                                                       \n"
     ]
    },
    {
     "name": "stdout",
     "output_type": "stream",
     "text": [
      "Epoch 37 of 10000\n",
      "Generator loss: 24.42159960129682, Discriminator loss: 0.005444090049166013, Satisfaction: 18.42068099975586\n"
     ]
    },
    {
     "name": "stderr",
     "output_type": "stream",
     "text": [
      "85it [00:25,  3.37it/s]                                                                                                                                                                                                                       \n"
     ]
    },
    {
     "name": "stdout",
     "output_type": "stream",
     "text": [
      "Epoch 38 of 10000\n",
      "Generator loss: 24.51935059042538, Discriminator loss: 0.005196811168399804, Satisfaction: 18.42068099975586\n"
     ]
    },
    {
     "name": "stderr",
     "output_type": "stream",
     "text": [
      "85it [00:18,  4.61it/s]                                                                                                                                                                                                                       \n"
     ]
    },
    {
     "name": "stdout",
     "output_type": "stream",
     "text": [
      "Epoch 39 of 10000\n",
      "Generator loss: 24.55317652085248, Discriminator loss: 0.004988457361126648, Satisfaction: 18.42068099975586\n"
     ]
    },
    {
     "name": "stderr",
     "output_type": "stream",
     "text": [
      "85it [00:22,  3.75it/s]                                                                                                                                                                                                                       \n"
     ]
    },
    {
     "name": "stdout",
     "output_type": "stream",
     "text": [
      "Epoch 40 of 10000\n",
      "Generator loss: 24.685585538078758, Discriminator loss: 0.00463544117177234, Satisfaction: 18.42068099975586\n"
     ]
    },
    {
     "name": "stderr",
     "output_type": "stream",
     "text": [
      "85it [00:15,  5.60it/s]                                                                                                                                                                                                                       \n"
     ]
    },
    {
     "name": "stdout",
     "output_type": "stream",
     "text": [
      "Epoch 41 of 10000\n",
      "Generator loss: 24.677173188153436, Discriminator loss: 0.00410166788736687, Satisfaction: 18.42068099975586\n"
     ]
    },
    {
     "name": "stderr",
     "output_type": "stream",
     "text": [
      "85it [00:25,  3.32it/s]                                                                                                                                                                                                                       \n"
     ]
    },
    {
     "name": "stdout",
     "output_type": "stream",
     "text": [
      "Epoch 42 of 10000\n",
      "Generator loss: 24.845416461720188, Discriminator loss: 0.0038959451540208916, Satisfaction: 18.42068099975586\n"
     ]
    },
    {
     "name": "stderr",
     "output_type": "stream",
     "text": [
      "85it [00:15,  5.64it/s]                                                                                                                                                                                                                       \n"
     ]
    },
    {
     "name": "stdout",
     "output_type": "stream",
     "text": [
      "Epoch 43 of 10000\n",
      "Generator loss: 24.879149493049173, Discriminator loss: 0.003766858920126277, Satisfaction: 18.42068099975586\n"
     ]
    },
    {
     "name": "stderr",
     "output_type": "stream",
     "text": [
      "85it [00:13,  6.52it/s]                                                                                                                                                                                                                       \n"
     ]
    },
    {
     "name": "stdout",
     "output_type": "stream",
     "text": [
      "Epoch 44 of 10000\n",
      "Generator loss: 24.956268086152917, Discriminator loss: 0.003490502677638741, Satisfaction: 18.42068099975586\n"
     ]
    },
    {
     "name": "stderr",
     "output_type": "stream",
     "text": [
      "85it [00:13,  6.35it/s]                                                                                                                                                                                                                       \n"
     ]
    },
    {
     "name": "stdout",
     "output_type": "stream",
     "text": [
      "Epoch 45 of 10000\n",
      "Generator loss: 25.03534606484806, Discriminator loss: 0.003424281476284651, Satisfaction: 18.42068099975586\n"
     ]
    },
    {
     "name": "stderr",
     "output_type": "stream",
     "text": [
      "85it [00:21,  3.88it/s]                                                                                                                                                                                                                       \n"
     ]
    },
    {
     "name": "stdout",
     "output_type": "stream",
     "text": [
      "Epoch 46 of 10000\n",
      "Generator loss: 25.13997143016142, Discriminator loss: 0.003134179420714431, Satisfaction: 18.42068099975586\n"
     ]
    },
    {
     "name": "stderr",
     "output_type": "stream",
     "text": [
      "85it [00:21,  4.03it/s]                                                                                                                                                                                                                       \n"
     ]
    },
    {
     "name": "stdout",
     "output_type": "stream",
     "text": [
      "Epoch 47 of 10000\n",
      "Generator loss: 25.17452621459961, Discriminator loss: 0.002929946977426024, Satisfaction: 18.42068099975586\n"
     ]
    },
    {
     "name": "stderr",
     "output_type": "stream",
     "text": [
      "85it [00:12,  6.55it/s]                                                                                                                                                                                                                       \n"
     ]
    },
    {
     "name": "stdout",
     "output_type": "stream",
     "text": [
      "Epoch 48 of 10000\n",
      "Generator loss: 25.262860623527974, Discriminator loss: 0.002573948211091406, Satisfaction: 18.42068099975586\n"
     ]
    },
    {
     "name": "stderr",
     "output_type": "stream",
     "text": [
      "85it [00:12,  6.64it/s]                                                                                                                                                                                                                       \n"
     ]
    },
    {
     "name": "stdout",
     "output_type": "stream",
     "text": [
      "Epoch 49 of 10000\n",
      "Generator loss: 25.279620092055378, Discriminator loss: 0.002543004767914467, Satisfaction: 18.42068099975586\n"
     ]
    },
    {
     "name": "stderr",
     "output_type": "stream",
     "text": [
      "85it [00:12,  6.64it/s]                                                                                                                                                                                                                       \n"
     ]
    },
    {
     "name": "stdout",
     "output_type": "stream",
     "text": [
      "Epoch 50 of 10000\n",
      "Generator loss: 25.395469104542453, Discriminator loss: 0.0024806851192432293, Satisfaction: 18.42068099975586\n"
     ]
    },
    {
     "name": "stderr",
     "output_type": "stream",
     "text": [
      "85it [00:12,  6.76it/s]                                                                                                                                                                                                                       \n"
     ]
    },
    {
     "name": "stdout",
     "output_type": "stream",
     "text": [
      "Epoch 51 of 10000\n",
      "Generator loss: 25.506996311860927, Discriminator loss: 0.0022517858620952156, Satisfaction: 18.42068099975586\n"
     ]
    },
    {
     "name": "stderr",
     "output_type": "stream",
     "text": [
      "85it [00:13,  6.29it/s]                                                                                                                                                                                                                       \n"
     ]
    },
    {
     "name": "stdout",
     "output_type": "stream",
     "text": [
      "Epoch 52 of 10000\n",
      "Generator loss: 25.571685185151942, Discriminator loss: 0.0020452435909058242, Satisfaction: 18.42068099975586\n"
     ]
    },
    {
     "name": "stderr",
     "output_type": "stream",
     "text": [
      "85it [00:13,  6.25it/s]                                                                                                                                                                                                                       \n"
     ]
    },
    {
     "name": "stdout",
     "output_type": "stream",
     "text": [
      "Epoch 53 of 10000\n",
      "Generator loss: 25.550726183723, Discriminator loss: 0.0019800420699860244, Satisfaction: 18.42068099975586\n"
     ]
    },
    {
     "name": "stderr",
     "output_type": "stream",
     "text": [
      "85it [00:12,  6.67it/s]                                                                                                                                                                                                                       \n"
     ]
    },
    {
     "name": "stdout",
     "output_type": "stream",
     "text": [
      "Epoch 54 of 10000\n",
      "Generator loss: 25.69463384291705, Discriminator loss: 0.0019402306157109493, Satisfaction: 18.42068099975586\n"
     ]
    },
    {
     "name": "stderr",
     "output_type": "stream",
     "text": [
      "85it [00:12,  6.67it/s]                                                                                                                                                                                                                       \n"
     ]
    },
    {
     "name": "stdout",
     "output_type": "stream",
     "text": [
      "Epoch 55 of 10000\n",
      "Generator loss: 25.702738952636718, Discriminator loss: 0.001738944386734682, Satisfaction: 18.42068099975586\n"
     ]
    },
    {
     "name": "stderr",
     "output_type": "stream",
     "text": [
      "85it [00:12,  6.65it/s]                                                                                                                                                                                                                       \n"
     ]
    },
    {
     "name": "stdout",
     "output_type": "stream",
     "text": [
      "Epoch 56 of 10000\n",
      "Generator loss: 25.769187725291534, Discriminator loss: 0.0017469727057580124, Satisfaction: 18.42068099975586\n"
     ]
    },
    {
     "name": "stderr",
     "output_type": "stream",
     "text": [
      "85it [00:13,  6.42it/s]                                                                                                                                                                                                                       \n"
     ]
    },
    {
     "name": "stdout",
     "output_type": "stream",
     "text": [
      "Epoch 57 of 10000\n",
      "Generator loss: 25.88863484999713, Discriminator loss: 0.001588389797903159, Satisfaction: 18.42068099975586\n"
     ]
    },
    {
     "name": "stderr",
     "output_type": "stream",
     "text": [
      "85it [00:14,  6.06it/s]                                                                                                                                                                                                                       \n"
     ]
    },
    {
     "name": "stdout",
     "output_type": "stream",
     "text": [
      "Epoch 58 of 10000\n",
      "Generator loss: 25.93502331901999, Discriminator loss: 0.0014613967573763255, Satisfaction: 18.42068099975586\n"
     ]
    },
    {
     "name": "stderr",
     "output_type": "stream",
     "text": [
      "85it [00:12,  6.58it/s]                                                                                                                                                                                                                       \n"
     ]
    },
    {
     "name": "stdout",
     "output_type": "stream",
     "text": [
      "Epoch 59 of 10000\n",
      "Generator loss: 25.994557279698988, Discriminator loss: 0.0014468006221303607, Satisfaction: 18.42068099975586\n"
     ]
    },
    {
     "name": "stderr",
     "output_type": "stream",
     "text": [
      "85it [00:13,  6.46it/s]                                                                                                                                                                                                                       \n"
     ]
    },
    {
     "name": "stdout",
     "output_type": "stream",
     "text": [
      "Epoch 60 of 10000\n",
      "Generator loss: 26.02596316618078, Discriminator loss: 0.0014313181382877862, Satisfaction: 18.42068099975586\n"
     ]
    },
    {
     "name": "stderr",
     "output_type": "stream",
     "text": [
      "85it [00:14,  5.85it/s]                                                                                                                                                                                                                       \n"
     ]
    },
    {
     "name": "stdout",
     "output_type": "stream",
     "text": [
      "Epoch 61 of 10000\n",
      "Generator loss: 26.15509069106158, Discriminator loss: 0.0012998914914479588, Satisfaction: 18.42068099975586\n"
     ]
    },
    {
     "name": "stderr",
     "output_type": "stream",
     "text": [
      "85it [00:19,  4.37it/s]                                                                                                                                                                                                                       \n"
     ]
    },
    {
     "name": "stdout",
     "output_type": "stream",
     "text": [
      "Epoch 62 of 10000\n",
      "Generator loss: 26.185839439840876, Discriminator loss: 0.0012185832485556603, Satisfaction: 18.42068099975586\n"
     ]
    },
    {
     "name": "stderr",
     "output_type": "stream",
     "text": [
      "85it [00:14,  5.87it/s]                                                                                                                                                                                                                       \n"
     ]
    },
    {
     "name": "stdout",
     "output_type": "stream",
     "text": [
      "Epoch 63 of 10000\n",
      "Generator loss: 26.183773040771484, Discriminator loss: 0.0011356093146947816, Satisfaction: 18.42068099975586\n"
     ]
    },
    {
     "name": "stderr",
     "output_type": "stream",
     "text": [
      "85it [00:13,  6.27it/s]                                                                                                                                                                                                                       \n"
     ]
    },
    {
     "name": "stdout",
     "output_type": "stream",
     "text": [
      "Epoch 64 of 10000\n",
      "Generator loss: 26.31311818291159, Discriminator loss: 0.0010707985657705543, Satisfaction: 18.42068099975586\n"
     ]
    },
    {
     "name": "stderr",
     "output_type": "stream",
     "text": [
      "85it [00:17,  4.76it/s]                                                                                                                                                                                                                       \n"
     ]
    },
    {
     "name": "stdout",
     "output_type": "stream",
     "text": [
      "Epoch 65 of 10000\n",
      "Generator loss: 26.35861583036535, Discriminator loss: 0.0010234932072789354, Satisfaction: 18.42068099975586\n"
     ]
    },
    {
     "name": "stderr",
     "output_type": "stream",
     "text": [
      " 52%|█████████████████████████████████████████████████████████████████████████████████████████████████████████▎                                                                                               | 44/84 [00:07<00:06,  6.45it/s]"
     ]
    }
   ],
   "source": [
    "for epoch in range(epochs):\n",
    "    loss_g = 0.0\n",
    "    loss_d = 0.0\n",
    "    sat = 0.0\n",
    "    temp = temperature\n",
    "    for bi, data in tqdm(enumerate(train_loader), total=int(len(train_data)/train_loader.batch_size)):\n",
    "        level = data\n",
    "        level = level.to(device)\n",
    "        b_size = len(level)\n",
    "        \n",
    "        # train the discriminator network\n",
    "        loss_d_cur, real_score, fake_score = train_discriminator(optim_d, level, temp, hard)\n",
    "        loss_d += loss_d_cur\n",
    "        \n",
    "        # train the generator network\n",
    "        for _ in range(1):\n",
    "            loss_g_cur, sat_cur = train_generator(optim_g, temp, hard, b_size)\n",
    "        loss_g += loss_g_cur\n",
    "        sat += sat_cur\n",
    "        \n",
    "        if bi % 100 == 1:\n",
    "            temp = np.maximum(temp * np.exp(-ANNEAL_RATE * bi), temp_min)\n",
    "        \n",
    "    # create the final fake image for the epoch\n",
    "    generated_level, _ = generator(noise, temp, hard)\n",
    "    generated_level = generated_level.cpu().detach()\n",
    "    # make the images as grid\n",
    "    #generated_level = transform_to_image_format(generated_level)\n",
    "    #generated_level = make_grid(generated_level)\n",
    "    # save the generated torch tensor models to disk\n",
    "    #save_generator_image(generated_level, f\"./outputs/gen_img{epoch}.png\")\n",
    "    images.append(generated_level)\n",
    "    epoch_loss_g = loss_g / (bi+1) # total generator loss for the epoch\n",
    "    epoch_loss_d = loss_d / (bi+1) # total discriminator loss for the epoch\n",
    "    epoch_sat = sat / (bi+1)\n",
    "    if epoch % 99 == 0:\n",
    "        torch.save(generator.state_dict(), f'./outputs/generators/final_v1/generator{epoch/99}.pth')\n",
    "    losses_g.append(epoch_loss_g)\n",
    "    losses_d.append(epoch_loss_d)\n",
    "    #epoch_sat = satisfaction(generated_level)\n",
    "    sats.append(epoch_sat)\n",
    "    \n",
    "    print(f\"Epoch {epoch} of {epochs}\")\n",
    "    print(f\"Generator loss: {epoch_loss_g}, Discriminator loss: {epoch_loss_d}, Satisfaction: {epoch_sat}\")\n",
    "    "
   ]
  },
  {
   "cell_type": "code",
   "execution_count": null,
   "id": "e3cb1324",
   "metadata": {},
   "outputs": [],
   "source": [
    "#img_list = []\n",
    "#G_losses = []\n",
    "#D_losses = []\n",
    "#iters = 0\n",
    "\n",
    "#num_epochs = 10\n",
    "\n",
    "#print(\"Starting Training Loop...\")\n",
    "## For each epoch\n",
    "#for epoch in range(num_epochs):\n",
    "    # For each batch in the dataloader\n",
    "#    for i, data in enumerate(train_loader, 0):\n",
    "#\n",
    "#        ############################\n",
    "#        # (1) Update D network: maximize log(D(x)) + log(1 - D(G(z)))\n",
    "#        ###########################\n",
    "#        ## Train with all-real batch\n",
    "#        discriminator.zero_grad()\n",
    "        # Format batch\n",
    "#        real_cpu = data.to(device)\n",
    "#        b_size = real_cpu.size(0)\n",
    "#        label = torch.full((b_size,), real_label, dtype=torch.float, device=device)\n",
    "        # Forward pass real batch through D\n",
    "#        output = discriminator(real_cpu)\n",
    "#        print(\"output\", output.shape, output)\n",
    "#        print(\"output0\", output[0].shape, output[0])\n",
    "        # Calculate loss on all-real batch\n",
    "#        errD_real = criterion(output, label)\n",
    "        # Calculate gradients for D in backward pass\n",
    "#        errD_real.backward()\n",
    "#        D_x = output.mean().item()\n",
    "\n",
    "        ## Train with all-fake batch\n",
    "        # Generate batch of latent vectors\n",
    "#        noise = torch.randn(b_size, nz, 1, 1, device=device)\n",
    "        # Generate fake image batch with G\n",
    "#        fake = generator(noise)\n",
    "#        label.fill_(fake_label)\n",
    "        # Classify all fake batch with D\n",
    "#        output = discriminator(fake.detach()).view(-1)\n",
    "        # Calculate D's loss on the all-fake batch\n",
    "#        errD_fake = criterion(output, label)\n",
    "        # Calculate the gradients for this batch, accumulated (summed) with previous gradients\n",
    "#        errD_fake.backward()\n",
    "#        D_G_z1 = output.mean().item()\n",
    "        # Compute error of D as sum over the fake and the real batches\n",
    "#        errD = errD_real + errD_fake\n",
    "        # Update D\n",
    "#        optimizerD.step()\n",
    "\n",
    "        ############################\n",
    "        # (2) Update G network: maximize log(D(G(z)))\n",
    "        ###########################\n",
    "#        generator.zero_grad()\n",
    "#        label.fill_(real_label)  # fake labels are real for generator cost\n",
    "        # Since we just updated D, perform another forward pass of all-fake batch through D\n",
    "#        output = discriminator(fake).view(-1)\n",
    "        # Calculate G's loss based on this output\n",
    "#        errG = criterion(output, label)\n",
    "        # Calculate gradients for G\n",
    "#        errG.backward()\n",
    " #       D_G_z2 = output.mean().item()\n",
    "        # Update G\n",
    "#        optimizerG.step()\n",
    "\n",
    "        # Output training stats\n",
    "#        if i % 50 == 0:\n",
    "#            print('[%d/%d][%d/%d]\\tLoss_D: %.4f\\tLoss_G: %.4f\\tD(x): %.4f\\tD(G(z)): %.4f / %.4f'\n",
    " #                 % (epoch, num_epochs, i, len(dataloader),\n",
    "  #                   errD.item(), errG.item(), D_x, D_G_z1, D_G_z2))\n",
    "\n",
    "        # Save Losses for plotting later\n",
    "#        G_losses.append(errG.item())\n",
    "#        D_losses.append(errD.item())\n",
    "\n",
    "        # Check how the generator is doing by saving G's output on fixed_noise\n",
    "#        if (iters % 500 == 0) or ((epoch == num_epochs-1) and (i == len(dataloader)-1)):\n",
    "#            with torch.no_grad():\n",
    "#                fake = generator(fixed_noise).detach().cpu()\n",
    "#            img_list.append(vutils.make_grid(fake, padding=2, normalize=True))\n",
    "\n",
    " #       iters += 1"
   ]
  },
  {
   "cell_type": "code",
   "execution_count": 723,
   "id": "041d1363",
   "metadata": {},
   "outputs": [
    {
     "name": "stdout",
     "output_type": "stream",
     "text": [
      "DONE TRAINING\n"
     ]
    }
   ],
   "source": [
    "print('DONE TRAINING')\n",
    "torch.save(generator.state_dict(), './outputs/generator_final_v4.pth')"
   ]
  },
  {
   "cell_type": "code",
   "execution_count": 724,
   "id": "15bc9a25",
   "metadata": {},
   "outputs": [
    {
     "name": "stdout",
     "output_type": "stream",
     "text": [
      "torch.Size([64, 10, 16, 11])\n",
      "torch.Size([64, 3, 16, 11])\n",
      "torch.Size([3, 146, 106])\n"
     ]
    }
   ],
   "source": [
    "# save the generated images as GIF file\n",
    "print(images[0].shape)\n",
    "transformed_images = [transform_to_image_format(img) for img in images]\n",
    "print(transformed_images[0].shape)\n",
    "grid_images = [make_grid(img) for img in transformed_images]\n",
    "print(grid_images[0].shape)\n",
    "imgs = [np.array(to_pil_image(img)) for img in grid_images]\n",
    "imageio.mimsave('./outputs/generator_images_final_v4.gif', imgs)"
   ]
  },
  {
   "cell_type": "code",
   "execution_count": 725,
   "id": "23fc7baa",
   "metadata": {},
   "outputs": [
    {
     "data": {
      "image/png": "[encoded data removed]",
      "text/plain": [
       "<Figure size 432x288 with 1 Axes>"
      ]
     },
     "metadata": {},
     "output_type": "display_data"
    },
    {
     "data": {
      "image/png": "[encoded data removed]",
      "text/plain": [
       "<Figure size 432x288 with 1 Axes>"
      ]
     },
     "metadata": {},
     "output_type": "display_data"
    },
    {
     "data": {
      "image/png": "[encoded data removed]",
      "text/plain": [
       "<Figure size 432x288 with 1 Axes>"
      ]
     },
     "metadata": {},
     "output_type": "display_data"
    }
   ],
   "source": [
    "# plot and save the generator and discriminator loss\n",
    "plt.figure()\n",
    "plt.plot(losses_g, label='Generator loss')\n",
    "plt.plot(losses_d, label='Discriminator Loss')\n",
    "plt.legend()\n",
    "plt.yscale('log')\n",
    "plt.savefig('./outputs/loss_final_v4.png')\n",
    "plt.figure()\n",
    "plt.plot(losses_d, label='Discriminator Loss')\n",
    "plt.savefig('./outputs/loss_d_final_v4.png')\n",
    "plt.figure()\n",
    "plt.plot(sats, label='Constraint satisfaction')\n",
    "plt.yscale('log')\n",
    "plt.savefig('./outputs/sat_final_v4.png')"
   ]
  },
  {
   "cell_type": "code",
   "execution_count": null,
   "id": "d190a7e0",
   "metadata": {},
   "outputs": [],
   "source": []
  },
  {
   "cell_type": "code",
   "execution_count": null,
   "id": "356d0156",
   "metadata": {},
   "outputs": [],
   "source": []
  },
  {
   "cell_type": "code",
   "execution_count": null,
   "id": "0eb520e9",
   "metadata": {},
   "outputs": [],
   "source": []
  },
  {
   "cell_type": "code",
   "execution_count": null,
   "id": "8cdc605f",
   "metadata": {},
   "outputs": [],
   "source": []
  },
  {
   "cell_type": "code",
   "execution_count": null,
   "id": "41b31f94",
   "metadata": {},
   "outputs": [],
   "source": []
  },
  {
   "cell_type": "code",
   "execution_count": null,
   "id": "45f2dfdf",
   "metadata": {},
   "outputs": [],
   "source": []
  },
  {
   "cell_type": "code",
   "execution_count": null,
   "id": "1d4b2a7b",
   "metadata": {},
   "outputs": [],
   "source": []
  }
 ],
 "metadata": {
  "kernelspec": {
   "display_name": "thesis-env",
   "language": "python",
   "name": "thesis-env"
  },
  "language_info": {
   "codemirror_mode": {
    "name": "ipython",
    "version": 3
   },
   "file_extension": ".py",
   "mimetype": "text/x-python",
   "name": "python",
   "nbconvert_exporter": "python",
   "pygments_lexer": "ipython3",
   "version": "3.9.12"
  }
 },
 "nbformat": 4,
 "nbformat_minor": 5
}
