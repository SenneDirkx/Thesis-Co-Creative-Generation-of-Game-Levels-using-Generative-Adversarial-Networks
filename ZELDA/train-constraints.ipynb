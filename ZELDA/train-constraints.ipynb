{
 "cells": [
  {
   "cell_type": "code",
   "execution_count": 11,
   "id": "11097150",
   "metadata": {},
   "outputs": [],
   "source": [
    "import os\n",
    "import torch\n",
    "import torch.nn as nn\n",
    "import torch.nn.parallel\n",
    "import torch.backends.cudnn as cudnn\n",
    "import torch.optim as optim\n",
    "import torch.utils.data\n",
    "import torchvision.datasets as datasets\n",
    "import torchvision.transforms as transforms\n",
    "from torchvision.utils import make_grid, save_image\n",
    "from torch.utils.data import Dataset, DataLoader\n",
    "from torch.nn import functional as F\n",
    "\n",
    "import imageio\n",
    "import numpy as np\n",
    "import matplotlib\n",
    "from matplotlib import pyplot as plt\n",
    "from tqdm import tqdm\n",
    "matplotlib.style.use('ggplot')"
   ]
  },
  {
   "cell_type": "code",
   "execution_count": 12,
   "id": "dc5cdf29",
   "metadata": {},
   "outputs": [],
   "source": [
    "class ZeldaLevelDataset(Dataset):\n",
    "    \"\"\"Zelda Game levels dataset.\"\"\"\n",
    "\n",
    "    def __init__(self, data_dir):\n",
    "        \"\"\"\n",
    "        Args:\n",
    "            csv_file (string): Path to the csv file with annotations.\n",
    "            root_dir (string): Directory with all the images.\n",
    "            transform (callable, optional): Optional transform to be applied\n",
    "                on a sample.\n",
    "        \"\"\"\n",
    "        self.data_dir = data_dir\n",
    "        self.levels = self.load_levels()\n",
    "\n",
    "    def __len__(self):\n",
    "        return len(self.levels)\n",
    "\n",
    "    def __getitem__(self, idx):\n",
    "        return self.levels[idx]\n",
    "    \n",
    "    def load_levels(self):\n",
    "        levels = []\n",
    "        directory = os.fsencode(self.data_dir)\n",
    "        for file in os.listdir(directory):\n",
    "            filename = os.fsdecode(file)\n",
    "            if filename.endswith(\".pt\"): \n",
    "                level = torch.load(self.data_dir + '/' + filename).float()\n",
    "                levels.append(level)\n",
    "        return levels\n",
    "                \n",
    "        "
   ]
  },
  {
   "cell_type": "code",
   "execution_count": 13,
   "id": "9d28c8e5",
   "metadata": {},
   "outputs": [
    {
     "name": "stdout",
     "output_type": "stream",
     "text": [
      "data size 1358\n"
     ]
    }
   ],
   "source": [
    "#transform = transforms.Compose([\n",
    "#                                transforms.ToTensor(),\n",
    "#                                transforms.Normalize((0.5,),(0.5,)),\n",
    "#])\n",
    "to_pil_image = transforms.ToPILImage()\n",
    "train_data = ZeldaLevelDataset('./data/tensorizedConv/')\n",
    "print(\"data size\", len(train_data))"
   ]
  },
  {
   "cell_type": "code",
   "execution_count": 14,
   "id": "4d6cad37",
   "metadata": {},
   "outputs": [],
   "source": [
    "# learning parameters\n",
    "no_cuda = False\n",
    "batch_size = 16\n",
    "epochs = 10000\n",
    "sample_size = 64 # fixed sample size\n",
    "nz = 8 # latent vector size\n",
    "seed = 2020\n",
    "temperature = 1.0\n",
    "hard = False\n",
    "categorical_dim = 10\n",
    "k = 1 # number of steps to apply to the discriminator\n",
    "is_cuda = not no_cuda and torch.cuda.is_available()\n",
    "device = torch.device('cuda' if is_cuda else 'cpu')\n",
    "torch.manual_seed(seed)\n",
    "if is_cuda:\n",
    "    torch.cuda.manual_seed(seed)"
   ]
  },
  {
   "cell_type": "code",
   "execution_count": 15,
   "id": "87e61a05",
   "metadata": {},
   "outputs": [],
   "source": [
    "train_loader = DataLoader(train_data, batch_size=batch_size, shuffle=True)"
   ]
  },
  {
   "cell_type": "code",
   "execution_count": 16,
   "id": "4973df19",
   "metadata": {},
   "outputs": [],
   "source": [
    "def weights_init(m):\n",
    "    classname = m.__class__.__name__\n",
    "    if classname.find('Conv') != -1:\n",
    "        torch.nn.init.normal_(m.weight, 0.0, 0.02)\n",
    "    elif classname.find('BatchNorm') != -1:\n",
    "        torch.nn.init.normal_(m.weight, 1.0, 0.02)\n",
    "        torch.nn.init.zeros_(m.bias)\n"
   ]
  },
  {
   "cell_type": "code",
   "execution_count": 17,
   "id": "ce783584",
   "metadata": {},
   "outputs": [],
   "source": [
    "def sample_gumbel(shape, eps=1e-20):\n",
    "    U = torch.rand(shape)\n",
    "    if is_cuda:\n",
    "        U = U.cuda()\n",
    "    return -torch.log(-torch.log(U + eps) + eps)\n",
    "\n",
    "def gumbel_softmax_sample(logits, temperature):\n",
    "    y = logits + sample_gumbel(logits.size())\n",
    "    return F.softmax(y / temperature, dim=-1)\n",
    "\n",
    "def gumbel_softmax(logits, temperature, hard=False):\n",
    "    \"\"\"\n",
    "    ST-gumple-softmax\n",
    "    input: [*, n_class]\n",
    "    return: flatten --> [*, n_class] an one-hot vector\n",
    "    \"\"\"\n",
    "    permuted_logits = logits.permute(0,2,3,1)\n",
    "    permuted_y = gumbel_softmax_sample(permuted_logits, temperature)\n",
    "    #if not hard:\n",
    "    #    return y.view(-1, nz * categorical_dim)\n",
    "    \n",
    "    shape = permuted_y.size()\n",
    "    _, ind = permuted_y.max(dim=-1)\n",
    "    y_hard = torch.zeros_like(permuted_y).view(-1, shape[-1])\n",
    "    y_hard.scatter_(1, ind.view(-1, 1), 1)\n",
    "    y_hard = y_hard.view(*shape)\n",
    "    # Set gradients w.r.t. y_hard gradients w.r.t. y\n",
    "    y_hard = (y_hard - permuted_y).detach() + permuted_y\n",
    "    y_final = y_hard.permute(0,3,1,2)\n",
    "    return y_final#.view(-1, latent_dim * categorical_dim)"
   ]
  },
  {
   "cell_type": "code",
   "execution_count": 18,
   "id": "e1706949",
   "metadata": {},
   "outputs": [],
   "source": [
    "class Reshape(nn.Module):\n",
    "    def __init__(self, *args):\n",
    "        super(Reshape, self).__init__()\n",
    "        self.shape = args\n",
    "\n",
    "    def forward(self, x):\n",
    "        return x.view(self.shape)"
   ]
  },
  {
   "cell_type": "code",
   "execution_count": 19,
   "id": "dc82f948",
   "metadata": {},
   "outputs": [
    {
     "name": "stdout",
     "output_type": "stream",
     "text": [
      "torch.Size([16, 10, 16, 11])\n"
     ]
    }
   ],
   "source": [
    "# testing\n",
    "print(iter(train_loader).next().shape)"
   ]
  },
  {
   "cell_type": "code",
   "execution_count": 65,
   "id": "e48a2626",
   "metadata": {},
   "outputs": [],
   "source": [
    "class Generator(nn.Module):\n",
    "    def __init__(self, nz):\n",
    "        super(Generator, self).__init__()\n",
    "        self.nz = nz\n",
    "        self.main = nn.Sequential(\n",
    "            nn.Linear(self.nz, 256),\n",
    "            nn.LeakyReLU(0.2),\n",
    "            nn.Linear(256, 512),\n",
    "            nn.LeakyReLU(0.2),\n",
    "            nn.Linear(512, 1024),\n",
    "            nn.LeakyReLU(0.2),\n",
    "            nn.Linear(1024, 2048),\n",
    "            nn.LeakyReLU(0.2),\n",
    "            nn.Linear(2048, 1760),\n",
    "            nn.Tanh(),\n",
    "        )\n",
    "    def forward(self, x):\n",
    "        return self.main(x).view(-1, 1, 16, 110)\n",
    "    \n",
    "class GeneratorConv(nn.Module):\n",
    "    def __init__(self, nz, temp):\n",
    "        super(GeneratorConv, self).__init__()\n",
    "        self.nz = nz\n",
    "        n_nodes = 64\n",
    "        self.main = nn.Sequential(\n",
    "            nn.Linear(nz, n_nodes),\n",
    "            nn.ReLU(),\n",
    "            Reshape(-1, 64, 1, 1),\n",
    "            nn.ConvTranspose2d(64, 48, 3, 2, bias=False),\n",
    "            #nn.BatchNorm2d(64),\n",
    "            #nn.ReLU(True),\n",
    "            \n",
    "            nn.ReLU(),\n",
    "            \n",
    "            nn.ConvTranspose2d(48, 32, 3, 2, bias=False),\n",
    "            \n",
    "            nn.ReLU(),\n",
    "            \n",
    "            nn.ConvTranspose2d(32, 16, 3, 1, bias=False),\n",
    "            \n",
    "            nn.ReLU(),\n",
    "            \n",
    "            nn.ConvTranspose2d(16, 10, (8,3), 1, bias=False),\n",
    "            #nn.BatchNorm2d(32),\n",
    "            #nn.ReLU(True),\n",
    "            #nn.LeakyReLU(0.2),\n",
    "            \n",
    "            #nn.ConvTranspose2d(32, 16, (2,2), 2, bias=False),\n",
    "            #nn.BatchNorm2d(16),\n",
    "            #nn.ReLU(True),\n",
    "            #nn.LeakyReLU(0.2),\n",
    "            \n",
    "            #nn.ConvTranspose2d(16, 10, (2,1), 2, bias=False),\n",
    "            nn.Tanh()\n",
    "        )\n",
    "\n",
    "    def forward(self, x, temp, hard, gumbel=True):\n",
    "        x = self.main(x)\n",
    "        #generated = F.softmax(x, dim=1)\n",
    "        generated = x\n",
    "        \n",
    "        if gumbel:\n",
    "            gumbeled = gumbel_softmax(x, temp, hard)\n",
    "            return generated, gumbeled\n",
    "        else:\n",
    "            return generated, None"
   ]
  },
  {
   "cell_type": "code",
   "execution_count": 66,
   "id": "a5604a20",
   "metadata": {},
   "outputs": [
    {
     "name": "stdout",
     "output_type": "stream",
     "text": [
      "GeneratorConv(\n",
      "  (main): Sequential(\n",
      "    (0): Linear(in_features=8, out_features=64, bias=True)\n",
      "    (1): ReLU()\n",
      "    (2): Reshape()\n",
      "    (3): ConvTranspose2d(64, 48, kernel_size=(3, 3), stride=(2, 2), bias=False)\n",
      "    (4): ReLU()\n",
      "    (5): ConvTranspose2d(48, 32, kernel_size=(3, 3), stride=(2, 2), bias=False)\n",
      "    (6): ReLU()\n",
      "    (7): ConvTranspose2d(32, 16, kernel_size=(3, 3), stride=(1, 1), bias=False)\n",
      "    (8): ReLU()\n",
      "    (9): ConvTranspose2d(16, 10, kernel_size=(8, 3), stride=(1, 1), bias=False)\n",
      "    (10): Tanh()\n",
      "  )\n",
      ")\n"
     ]
    }
   ],
   "source": [
    "generator = GeneratorConv(nz, temperature).to(device)\n",
    "#generator.apply(weights_init)\n",
    "print(generator)"
   ]
  },
  {
   "cell_type": "code",
   "execution_count": 67,
   "id": "9b01fc02",
   "metadata": {},
   "outputs": [
    {
     "name": "stdout",
     "output_type": "stream",
     "text": [
      "dis\n",
      "torch.Size([1, 16, 5, 5])\n",
      "torch.Size([1, 24, 2, 2])\n",
      "torch.Size([1, 96])\n",
      "torch.Size([1, 1])\n",
      "gen\n",
      "torch.Size([1, 64])\n",
      "torch.Size([1, 64, 1, 1])\n",
      "torch.Size([1, 48, 3, 3])\n",
      "torch.Size([1, 32, 7, 7])\n",
      "torch.Size([1, 16, 9, 9])\n",
      "torch.Size([1, 10, 16, 11])\n",
      "(tensor([[[[ 3.4716e-05, -3.0335e-04, -9.0325e-04,  ..., -1.5744e-04,\n",
      "           -4.8568e-04, -1.9734e-04],\n",
      "          [-1.4489e-04, -5.0174e-05, -1.8583e-03,  ..., -1.0805e-03,\n",
      "           -3.8603e-04, -2.1813e-04],\n",
      "          [-1.4239e-04, -1.3864e-04, -2.6922e-03,  ..., -1.0526e-03,\n",
      "            2.0547e-04, -3.8571e-04],\n",
      "          ...,\n",
      "          [ 2.6437e-04, -4.2827e-04,  8.7226e-05,  ...,  6.1176e-04,\n",
      "           -1.0446e-03,  1.4538e-04],\n",
      "          [-7.0385e-04, -7.3322e-04, -3.2201e-04,  ..., -2.4074e-04,\n",
      "           -6.7618e-04, -1.4151e-04],\n",
      "          [-6.8166e-05,  7.1174e-05, -2.8401e-04,  ...,  1.6112e-04,\n",
      "            1.3234e-04,  1.8125e-04]],\n",
      "\n",
      "         [[ 2.0157e-04,  4.8046e-04,  1.5751e-04,  ..., -2.8293e-04,\n",
      "           -8.7646e-05,  2.2270e-04],\n",
      "          [-1.2620e-05,  2.6383e-04,  6.0776e-04,  ...,  3.0931e-04,\n",
      "            7.3711e-04,  4.5472e-05],\n",
      "          [ 1.7916e-05,  8.6304e-04,  1.2400e-03,  ..., -1.7348e-03,\n",
      "           -3.2062e-04, -3.0485e-04],\n",
      "          ...,\n",
      "          [ 7.6077e-04,  7.8806e-04,  3.2324e-04,  ..., -6.8845e-04,\n",
      "            8.1810e-04,  2.0525e-04],\n",
      "          [-4.8042e-04,  2.1332e-06, -2.6491e-04,  ..., -1.5086e-04,\n",
      "            1.5650e-04,  1.2414e-04],\n",
      "          [-1.9042e-04, -4.5604e-04,  1.1303e-05,  ..., -2.7245e-04,\n",
      "            2.6733e-04,  4.9854e-05]],\n",
      "\n",
      "         [[-7.2061e-05, -3.4317e-05,  4.0091e-04,  ...,  3.5494e-04,\n",
      "            1.9873e-04,  1.8988e-04],\n",
      "          [-1.0817e-04,  2.3580e-04,  4.3147e-06,  ..., -6.1771e-04,\n",
      "           -6.9497e-05,  9.4014e-05],\n",
      "          [-4.1532e-04,  4.3017e-05, -8.0202e-05,  ..., -1.9725e-04,\n",
      "           -3.7989e-04, -2.8518e-04],\n",
      "          ...,\n",
      "          [-8.0712e-04, -6.5340e-04, -1.6709e-03,  ..., -9.7910e-04,\n",
      "            2.4165e-06, -4.9024e-04],\n",
      "          [-1.6526e-04, -5.9065e-04, -4.4136e-04,  ..., -5.3098e-05,\n",
      "           -2.3112e-04, -1.5600e-04],\n",
      "          [ 1.8048e-04,  1.1122e-04, -5.1415e-04,  ..., -4.6162e-04,\n",
      "           -5.0678e-04, -5.9412e-06]],\n",
      "\n",
      "         ...,\n",
      "\n",
      "         [[ 2.0782e-04, -1.9023e-05, -3.2532e-04,  ..., -3.2793e-04,\n",
      "           -7.7398e-04, -3.3954e-04],\n",
      "          [ 1.1552e-04,  2.6841e-06, -7.4728e-05,  ..., -3.1589e-04,\n",
      "            3.5259e-06, -1.0339e-04],\n",
      "          [ 1.7358e-04,  6.0535e-04, -5.3267e-04,  ..., -2.1967e-03,\n",
      "           -7.7056e-04, -3.6320e-04],\n",
      "          ...,\n",
      "          [-1.3396e-05, -6.0805e-04, -8.0813e-04,  ..., -6.3530e-04,\n",
      "           -6.9972e-04,  2.8580e-05],\n",
      "          [-1.2922e-04, -7.4792e-04, -1.2226e-04,  ..., -6.9289e-04,\n",
      "           -1.2079e-03,  9.2221e-05],\n",
      "          [-4.2395e-04, -5.0023e-04, -6.8661e-04,  ..., -7.8885e-04,\n",
      "           -3.8580e-04,  1.0349e-04]],\n",
      "\n",
      "         [[ 2.3639e-05,  5.6734e-04,  5.6632e-04,  ..., -8.0467e-04,\n",
      "            3.1798e-05, -2.1338e-04],\n",
      "          [ 3.7287e-04,  4.0914e-04,  1.4459e-03,  ..., -1.0399e-03,\n",
      "            1.2125e-04, -1.2774e-04],\n",
      "          [ 2.0721e-04,  1.8184e-03,  1.6784e-03,  ..., -8.4881e-04,\n",
      "            3.0045e-04,  6.6761e-05],\n",
      "          ...,\n",
      "          [-7.2480e-05,  1.5166e-05,  1.0331e-03,  ...,  6.6199e-04,\n",
      "            9.7714e-04,  4.7128e-04],\n",
      "          [ 3.6409e-05,  1.2026e-04, -3.0516e-04,  ...,  4.7444e-04,\n",
      "            5.2031e-04,  1.7954e-04],\n",
      "          [-6.9832e-05,  4.4445e-04,  3.9829e-04,  ..., -2.6705e-05,\n",
      "           -1.9560e-05, -7.4447e-05]],\n",
      "\n",
      "         [[ 3.7141e-05,  5.8206e-05,  6.2746e-04,  ...,  5.6100e-04,\n",
      "           -3.5249e-05, -6.9869e-05],\n",
      "          [ 2.0247e-04,  3.1235e-04,  1.5911e-04,  ..., -2.0644e-04,\n",
      "            6.6557e-05,  3.0872e-04],\n",
      "          [ 3.3401e-04,  5.7947e-04,  1.9721e-03,  ..., -9.3293e-04,\n",
      "           -2.1966e-04, -4.9085e-04],\n",
      "          ...,\n",
      "          [-1.8427e-05, -4.5916e-04, -2.6401e-05,  ...,  1.8954e-04,\n",
      "            1.9058e-03,  1.3474e-04],\n",
      "          [ 4.2093e-05,  3.6679e-04,  2.1158e-03,  ...,  7.7306e-04,\n",
      "            2.5689e-04,  2.6057e-04],\n",
      "          [ 4.1629e-05, -1.8961e-04, -2.5057e-04,  ...,  4.3406e-04,\n",
      "            1.5108e-04,  2.5242e-04]]]], grad_fn=<TanhBackward0>), tensor([[[[0., 0., 0.,  ..., 0., 0., 0.],\n",
      "          [0., 0., 0.,  ..., 0., 0., 0.],\n",
      "          [0., 0., 0.,  ..., 0., 0., 0.],\n",
      "          ...,\n",
      "          [0., 0., 0.,  ..., 0., 0., 0.],\n",
      "          [0., 0., 0.,  ..., 0., 0., 0.],\n",
      "          [0., 0., 0.,  ..., 0., 1., 0.]],\n",
      "\n",
      "         [[0., 0., 0.,  ..., 0., 0., 0.],\n",
      "          [0., 0., 0.,  ..., 0., 0., 0.],\n",
      "          [0., 0., 0.,  ..., 1., 0., 0.],\n",
      "          ...,\n",
      "          [0., 0., 0.,  ..., 0., 0., 0.],\n",
      "          [0., 0., 0.,  ..., 0., 0., 0.],\n",
      "          [0., 0., 0.,  ..., 0., 0., 0.]],\n",
      "\n",
      "         [[0., 0., 0.,  ..., 0., 0., 0.],\n",
      "          [0., 0., 0.,  ..., 0., 0., 0.],\n",
      "          [0., 1., 0.,  ..., 0., 0., 0.],\n",
      "          ...,\n",
      "          [0., 0., 1.,  ..., 0., 0., 0.],\n",
      "          [0., 0., 0.,  ..., 0., 0., 1.],\n",
      "          [0., 0., 0.,  ..., 1., 0., 0.]],\n",
      "\n",
      "         ...,\n",
      "\n",
      "         [[1., 0., 0.,  ..., 0., 0., 0.],\n",
      "          [0., 0., 0.,  ..., 1., 0., 0.],\n",
      "          [0., 0., 0.,  ..., 0., 0., 1.],\n",
      "          ...,\n",
      "          [0., 0., 0.,  ..., 0., 0., 0.],\n",
      "          [0., 1., 0.,  ..., 0., 0., 0.],\n",
      "          [0., 0., 0.,  ..., 0., 0., 0.]],\n",
      "\n",
      "         [[0., 0., 1.,  ..., 0., 0., 0.],\n",
      "          [0., 0., 0.,  ..., 0., 0., 0.],\n",
      "          [0., 0., 0.,  ..., 0., 0., 0.],\n",
      "          ...,\n",
      "          [0., 0., 0.,  ..., 0., 0., 1.],\n",
      "          [0., 0., 0.,  ..., 0., 1., 0.],\n",
      "          [1., 0., 0.,  ..., 0., 0., 0.]],\n",
      "\n",
      "         [[0., 0., 0.,  ..., 0., 1., 0.],\n",
      "          [1., 1., 0.,  ..., 0., 0., 0.],\n",
      "          [0., 0., 0.,  ..., 0., 0., 0.],\n",
      "          ...,\n",
      "          [0., 0., 0.,  ..., 1., 0., 0.],\n",
      "          [0., 0., 0.,  ..., 0., 0., 0.],\n",
      "          [0., 0., 0.,  ..., 0., 0., 0.]]]], grad_fn=<PermuteBackward0>))\n"
     ]
    }
   ],
   "source": [
    "# CONV shape tests\n",
    "test_level = torch.rand(1, 10, 16, 11)\n",
    "\n",
    "#conv1 = nn.Conv2d(10, 16, 4, 1, bias=False)\n",
    "#conv2 = nn.Conv2d(16, 32, 4, 1, bias=False)\n",
    "#conv3 = nn.Conv2d(32, 48, 4, 1, bias=False)\n",
    "#conv4 = nn.Conv2d(48, 64, (3,1), 1, bias=False)\n",
    "#flatt = nn.Flatten()\n",
    "#lin1 = nn.Linear(64*5*2, 128)\n",
    "\n",
    "conv1 = nn.Conv2d(10, 16, (8,3), 2, bias=False)\n",
    "conv2 = nn.Conv2d(16, 24, 3, 2, bias=False)\n",
    "flatt = nn.Flatten()\n",
    "lin1 = nn.Linear(96, 1)\n",
    "\n",
    "\n",
    "print(\"dis\")\n",
    "x = conv1(test_level)\n",
    "print(x.shape)\n",
    "x = conv2(x)\n",
    "print(x.shape)\n",
    "#x = conv3(x)\n",
    "#print(x.shape)\n",
    "#x = conv4(x)\n",
    "#print(x.shape)\n",
    "x = flatt(x)\n",
    "print(x.shape)\n",
    "x = lin1(x)\n",
    "print(x.shape)\n",
    "\n",
    "print(\"gen\")\n",
    "test_latent = torch.rand(1, 8)\n",
    "#deconv1 = nn.ConvTranspose2d(128, 64, (3,2), 1, bias=False)\n",
    "#deconv2 = nn.ConvTranspose2d(64, 32, (2,2), 1, bias=False)\n",
    "#deconv3 = nn.ConvTranspose2d(32, 16, (2,2), 2, bias=False)\n",
    "#deconv4 = nn.ConvTranspose2d(16, 10, (2,1),2, bias=False)\n",
    "#y = deconv1(test_latent)\n",
    "lin1 = nn.Linear(8, 64)\n",
    "reshape = Reshape(-1, 64, 1, 1)\n",
    "deconv1 = nn.ConvTranspose2d(64, 48, 3, 2, bias=False)\n",
    "deconv2 = nn.ConvTranspose2d(48, 32, 3, 2, bias=False)\n",
    "deconv3 = nn.ConvTranspose2d(32, 16, 3, 1, bias=False)\n",
    "deconv4 = nn.ConvTranspose2d(16, 10, (8,3), 1, bias=False)\n",
    "\n",
    "y = lin1(test_latent)\n",
    "print(y.shape)\n",
    "y = reshape(y)\n",
    "print(y.shape)\n",
    "y = deconv1(y)\n",
    "print(y.shape)\n",
    "y = deconv2(y)\n",
    "print(y.shape)\n",
    "y = deconv3(y)\n",
    "print(y.shape)\n",
    "y = deconv4(y)\n",
    "print(y.shape)\n",
    "print(generator(test_latent, temperature, hard))\n"
   ]
  },
  {
   "cell_type": "code",
   "execution_count": 68,
   "id": "2596c30b",
   "metadata": {},
   "outputs": [],
   "source": [
    "class Discriminator(nn.Module):\n",
    "    def __init__(self):\n",
    "        super(Discriminator, self).__init__()\n",
    "        self.n_input = 1760\n",
    "        self.main = nn.Sequential(\n",
    "            nn.Linear(self.n_input, 2048),\n",
    "            nn.LeakyReLU(0.2),\n",
    "            nn.Dropout(0.3),\n",
    "            nn.Linear(2048, 1024),\n",
    "            nn.LeakyReLU(0.2),\n",
    "            nn.Dropout(0.3),\n",
    "            nn.Linear(1024, 512),\n",
    "            nn.LeakyReLU(0.2),\n",
    "            nn.Dropout(0.3),\n",
    "            nn.Linear(512, 256),\n",
    "            nn.LeakyReLU(0.2),\n",
    "            nn.Dropout(0.3),\n",
    "            nn.Linear(256, 1),\n",
    "            nn.Sigmoid(),\n",
    "        )\n",
    "    def forward(self, x):\n",
    "        x = x.view(-1, 1760)\n",
    "        return self.main(x)\n",
    "\n",
    "class DiscriminatorConv(nn.Module):\n",
    "    def __init__(self):\n",
    "        super(DiscriminatorConv, self).__init__()\n",
    "        self.main = nn.Sequential(\n",
    "            # input is B x C x H x W\n",
    "            # B = 16, C = 10, H = 16, W = 11\n",
    "            nn.Conv2d(10, 16, (8,3), 2, bias=False),\n",
    "            # output:\n",
    "            # B = 16, C = 32, H = (in+2P-k)/S + 1 = (16+0-4)/2 + 1 = 7, W = (in+2P-k)/S + 1 = (11+0-3)/2 + 1 = 5\n",
    "            nn.LeakyReLU(0.2, inplace=True),\n",
    "            nn.Dropout(0.2),\n",
    "            nn.Conv2d(16, 32, 3, 2, bias=False),\n",
    "            # output:\n",
    "            # B = 16, C = 32, H = (in+2P-k)/S + 1 = (7+0-3)/2 + 1 = 3, W = (in+2P-k)/S + 1 = (5+0-3)/2 + 1 = 2\n",
    "            nn.BatchNorm2d(32),\n",
    "            nn.LeakyReLU(0.2, inplace=True),\n",
    "            nn.Dropout(0.2),\n",
    "            #nn.Conv2d(32, 64, 4, 1, bias=False),\n",
    "            # output:\n",
    "            # B = 16, C = 1, H = (in+2P-k)/S + 1 = (10+0-4)/2 + 1 = 7, W = (in+2P-k)/S + 1 = (5+0-4)/2 + 1 = 2\n",
    "            #nn.BatchNorm2d(64),\n",
    "            #nn.LeakyReLU(0.2, inplace=True),\n",
    "            #nn.Conv2d(64, 128, (3,1), 1, bias=False),\n",
    "            #nn.LeakyReLU(0.2, inplace=True),\n",
    "            nn.Flatten(),\n",
    "            nn.Linear(96, 1),\n",
    "            #nn.ReLU(),\n",
    "            #nn.Linear(256, 64),\n",
    "            #nn.ReLU(),\n",
    "            #nn.Linear(64, 16),\n",
    "            #nn.ReLU(),\n",
    "            #nn.Linear(16, 1),\n",
    "            nn.Sigmoid()\n",
    "        )\n",
    "\n",
    "    def forward(self, x):\n",
    "        return self.main(x)"
   ]
  },
  {
   "cell_type": "code",
   "execution_count": 69,
   "id": "95965560",
   "metadata": {},
   "outputs": [
    {
     "name": "stdout",
     "output_type": "stream",
     "text": [
      "DiscriminatorConv(\n",
      "  (main): Sequential(\n",
      "    (0): Conv2d(10, 16, kernel_size=(8, 3), stride=(2, 2), bias=False)\n",
      "    (1): LeakyReLU(negative_slope=0.2, inplace=True)\n",
      "    (2): Dropout(p=0.2, inplace=False)\n",
      "    (3): Conv2d(16, 24, kernel_size=(3, 3), stride=(2, 2), bias=False)\n",
      "    (4): BatchNorm2d(24, eps=1e-05, momentum=0.1, affine=True, track_running_stats=True)\n",
      "    (5): LeakyReLU(negative_slope=0.2, inplace=True)\n",
      "    (6): Dropout(p=0.2, inplace=False)\n",
      "    (7): Flatten(start_dim=1, end_dim=-1)\n",
      "    (8): Linear(in_features=96, out_features=1, bias=True)\n",
      "    (9): Sigmoid()\n",
      "  )\n",
      ")\n"
     ]
    }
   ],
   "source": [
    "discriminator = DiscriminatorConv().to(device)\n",
    "#discriminator.apply(weights_init)\n",
    "print(discriminator)"
   ]
  },
  {
   "cell_type": "code",
   "execution_count": 70,
   "id": "5a44611e",
   "metadata": {},
   "outputs": [],
   "source": [
    "temp_min = 0.5\n",
    "ANNEAL_RATE = 0.00003\n",
    "if is_cuda:\n",
    "    generator.cuda()\n",
    "    discriminator.cuda()"
   ]
  },
  {
   "cell_type": "code",
   "execution_count": 71,
   "id": "0d0616b6",
   "metadata": {},
   "outputs": [],
   "source": [
    "# function to create the noise vector\n",
    "def create_noise(sample_size, nz):\n",
    "    return torch.randn(sample_size, nz).to(device)"
   ]
  },
  {
   "cell_type": "code",
   "execution_count": 72,
   "id": "be52db09",
   "metadata": {},
   "outputs": [],
   "source": [
    "gan_criterion = nn.BCELoss()"
   ]
  },
  {
   "cell_type": "code",
   "execution_count": 73,
   "id": "bb4a7fee",
   "metadata": {},
   "outputs": [],
   "source": [
    "from semantic_loss_pytorch import SemanticLoss\n",
    "sl = SemanticLoss(\"constraints/basic_constraint.sdd\", \"constraints/basic_constraint.vtree\")\n",
    "#sl_constraints = []\n",
    "#for i in range(10):\n",
    "#    if i == 6:\n",
    "#        continue\n",
    "#    sl_constraints.append(SemanticLoss(f\"constraints/final/constraint_{i}.sdd\", f\"constraints/final/constraint_{i}.vtree\"))\n",
    "\n",
    "#batch_size = 64\n",
    "# constraints over a 2x2 variable\n",
    "#xlevel = torch.rand((batch_size, 10, 16, 11))\n",
    "#print(sl(probabilities=xlevel))\n",
    "#xlevel = F.softmax(xlevel, dim=1)\n",
    "#print(sl(probabilities=xlevel))\n",
    "#for i in range(len(sl_constraints)):\n",
    "#    x = xlevel[:, i, :, :]\n",
    "#    #print(x[0])\n",
    "#    loss = sl_constraints[i](probabilities=x)\n",
    "#    print(loss)\n"
   ]
  },
  {
   "cell_type": "code",
   "execution_count": 74,
   "id": "f80d197e",
   "metadata": {},
   "outputs": [],
   "source": [
    "#criterion = nn.BCEWithLogitsLoss()\n",
    "#criterion = can_loss\n",
    "\n",
    "losses_g = [] # to store generator loss after each epoch\n",
    "losses_d = [] # to store discriminator loss after each epoch\n",
    "images = [] # to store images generatd by the generator\n",
    "sats = []\n",
    "\n",
    "# optimizers\n",
    "optim_g = optim.Adam(generator.parameters(), lr=0.0002, betas=(0.5, 0.999))\n",
    "optim_d = optim.Adam(discriminator.parameters(), lr=0.0002, betas=(0.5, 0.999))\n",
    "\n",
    "real_label = 1.\n",
    "fake_label = 0.\n",
    "\n",
    "# create the noise vector\n",
    "noise = create_noise(64, nz)"
   ]
  },
  {
   "cell_type": "code",
   "execution_count": 75,
   "id": "b166dc75",
   "metadata": {},
   "outputs": [],
   "source": [
    "# to create real labels (1s)\n",
    "def label_real(size):\n",
    "    data = torch.ones(size, 1)\n",
    "    return data.to(device)\n",
    "# to create fake labels (0s)\n",
    "def label_fake(size):\n",
    "    data = torch.zeros(size, 1)\n",
    "    return data.to(device)"
   ]
  },
  {
   "cell_type": "code",
   "execution_count": 76,
   "id": "02918dc5",
   "metadata": {},
   "outputs": [],
   "source": [
    "# to save the images generated by the generator\n",
    "def save_generator_image(image, path):\n",
    "    save_image(image, path)"
   ]
  },
  {
   "cell_type": "code",
   "execution_count": 77,
   "id": "b0976260",
   "metadata": {},
   "outputs": [],
   "source": [
    "# function to train the discriminator network\n",
    "def train_discriminator(optimizer, data_real, temp, hard):\n",
    "    optimizer.zero_grad()\n",
    "    b_size = data_real.size(0)\n",
    "    \n",
    "    real_preds = discriminator(data_real)\n",
    "    real_label = label_real(b_size)\n",
    "    real_loss = gan_criterion(real_preds, real_label)\n",
    "    real_score = torch.mean(real_preds).item()\n",
    "    \n",
    "    latent = create_noise(b_size, nz)\n",
    "    fake_levels_probs, _ = generator(latent, temp, hard, gumbel=False)\n",
    "    \n",
    "    fake_preds = discriminator(fake_levels_probs)\n",
    "    fake_label = label_fake(b_size)\n",
    "    fake_loss = gan_criterion(fake_preds, fake_label)\n",
    "    fake_score = torch.mean(fake_preds).item()\n",
    "    \n",
    "    loss = real_loss + fake_loss\n",
    "    loss.backward()\n",
    "    optimizer.step()\n",
    "    \n",
    "    return loss.item(), real_score, fake_score"
   ]
  },
  {
   "cell_type": "code",
   "execution_count": 78,
   "id": "6ccaea55",
   "metadata": {},
   "outputs": [
    {
     "name": "stdout",
     "output_type": "stream",
     "text": [
      "tensor(56335.2734)\n",
      "tensor(18.4207)\n"
     ]
    }
   ],
   "source": [
    "def wall_var(fake_levels):\n",
    "    b_size = fake_levels.shape[0]\n",
    "    \n",
    "    top_outer_wall = torch.prod(fake_levels[:, 8, 0, :].view(b_size, -1), dim=1)\n",
    "    bottom_outer_wall = torch.prod(fake_levels[:, 8, 15, :].view(b_size, -1), dim=1)\n",
    "    left_outer_wall = torch.prod(fake_levels[:, 8, 1:15, 0].view(b_size, -1), dim=1)\n",
    "    right_outer_wall = torch.prod(fake_levels[:, 8, 1:15, 10].view(b_size, -1), dim=1)\n",
    "    \n",
    "    outer_walls = top_outer_wall * bottom_outer_wall * left_outer_wall * right_outer_wall\n",
    "    return outer_walls.unsqueeze(1)\n",
    "    \n",
    "def semantic_loss(fake_levels):\n",
    "    outer_walls = wall_var(fake_levels) + 1e-8\n",
    "    #print(torch.sum(outer_walls))\n",
    "    loss = sl(probabilities=outer_walls)\n",
    "    return loss\n",
    "\n",
    "rndtest = torch.rand(64, 10, 16, 11)\n",
    "print(torch.sum(rndtest))\n",
    "print(semantic_loss(torch.rand(64, 10, 16, 11)))"
   ]
  },
  {
   "cell_type": "code",
   "execution_count": 79,
   "id": "0aab648b",
   "metadata": {},
   "outputs": [],
   "source": [
    "# function to train the generator network\n",
    "def train_generator(optimizer, temp, hard, b_size):\n",
    "    optimizer.zero_grad()\n",
    "    \n",
    "    latent = create_noise(b_size, nz)\n",
    "    fake_levels_probs, _ = generator(latent, temp, hard, gumbel=False)\n",
    "    \n",
    "    preds = discriminator(fake_levels_probs)\n",
    "    label = label_real(b_size)\n",
    "    adversarial_loss = gan_criterion(preds, label)\n",
    "    #constraint_loss = can_loss(fake_levels)\n",
    "    \n",
    "    #loss = adversarial_loss + constraint_loss\n",
    "    #selected = fake_levels[:, 8, 0, :].unsqueeze(2)\n",
    "    #opposite = 1 - selected\n",
    "    #third_tensor = torch.cat((selected, opposite), 2)\n",
    "    \n",
    "    #loss = torch.tensor(0.0)\n",
    "    #with io.capture_output() as captured:\n",
    "    #    for i in range(third_tensor.shape[0]):\n",
    "    #        third_tensor_one = third_tensor[i]\n",
    "#\n",
    "    #        loss += circuit_cons(third_tensor_one)\n",
    "    #loss /= b_size\n",
    "    constraint_loss = 0.0\n",
    "    \n",
    "    #for i in range(len(sl_constraints)):\n",
    "    #    x = fake_levels_probs[:, i, :, :]\n",
    "    #    constraint_loss += sl_constraints[i](probabilities=x)\n",
    "        \n",
    "    #x = fake_levels_probs[:, 8, :, :]\n",
    "    #constraint_loss = sl(probabilities=fake_levels_probs)\n",
    "    #print(torch.sum(fake_levels_probs))\n",
    "    constraint_loss = semantic_loss(fake_levels_probs)\n",
    "    #print(constraint_loss)\n",
    "    \n",
    "    loss = adversarial_loss + constraint_loss\n",
    "    \n",
    "    loss.backward()\n",
    "    optimizer.step()\n",
    "    \n",
    "    #loss_constraint = can_loss(data_fake)\n",
    "    #loss_constraint.backward()\n",
    "    \n",
    "    return loss.item(), constraint_loss.item()"
   ]
  },
  {
   "cell_type": "code",
   "execution_count": 80,
   "id": "6528ccb4",
   "metadata": {},
   "outputs": [],
   "source": [
    "def transform_to_image_format(level):\n",
    "    colorR = torch.tensor([0.69,0.3, 0.8,0,   0.06,0.08,0.52,0.3, 0.26,0])\n",
    "    colorG = torch.tensor([0.69,1,   0,  0.14,0.12,0.94,0.13,0.52,0.14,0])\n",
    "    colorB = torch.tensor([0.69,1,   0.1,0.8 ,0.35,0.33,0.08,0.08,0.31,0])\n",
    "    \n",
    "    colorMap = torch.tensor([[0.69,0.3, 0.8,0,   0.06,0.08,0.52,0.3, 0.26,0],\n",
    "                            [0.69,1,   0,  0.14,0.12,0.94,0.13,0.52,0.14,0],\n",
    "                            [0.69,1,   0.1,0.8 ,0.35,0.33,0.08,0.08,0.31,0]]).transpose(0,1)\n",
    "    permuted_level = level.permute(0,2,3,1)\n",
    "    \n",
    "    colored_permuted_level = torch.matmul(permuted_level,colorMap)\n",
    "    colored_level = colored_permuted_level.permute(0,3,1,2)\n",
    "    \n",
    "    return colored_level"
   ]
  },
  {
   "cell_type": "code",
   "execution_count": 81,
   "id": "f6ca43c5",
   "metadata": {},
   "outputs": [
    {
     "data": {
      "text/plain": [
       "DiscriminatorConv(\n",
       "  (main): Sequential(\n",
       "    (0): Conv2d(10, 16, kernel_size=(8, 3), stride=(2, 2), bias=False)\n",
       "    (1): LeakyReLU(negative_slope=0.2, inplace=True)\n",
       "    (2): Dropout(p=0.2, inplace=False)\n",
       "    (3): Conv2d(16, 24, kernel_size=(3, 3), stride=(2, 2), bias=False)\n",
       "    (4): BatchNorm2d(24, eps=1e-05, momentum=0.1, affine=True, track_running_stats=True)\n",
       "    (5): LeakyReLU(negative_slope=0.2, inplace=True)\n",
       "    (6): Dropout(p=0.2, inplace=False)\n",
       "    (7): Flatten(start_dim=1, end_dim=-1)\n",
       "    (8): Linear(in_features=96, out_features=1, bias=True)\n",
       "    (9): Sigmoid()\n",
       "  )\n",
       ")"
      ]
     },
     "execution_count": 81,
     "metadata": {},
     "output_type": "execute_result"
    }
   ],
   "source": [
    "generator.train()\n",
    "discriminator.train()"
   ]
  },
  {
   "cell_type": "code",
   "execution_count": 85,
   "id": "48768082",
   "metadata": {},
   "outputs": [
    {
     "name": "stderr",
     "output_type": "stream",
     "text": [
      "85it [00:01, 44.75it/s]                                                                                                                                     \n"
     ]
    },
    {
     "name": "stdout",
     "output_type": "stream",
     "text": [
      "Epoch 0 of 10000\n",
      "Generator loss: 1.649085539930007, Discriminator loss: 0.7075278198017794, Satisfaction: 0.033164760733351985\n"
     ]
    },
    {
     "name": "stderr",
     "output_type": "stream",
     "text": [
      "85it [00:01, 56.08it/s]                                                                                                                                     \n"
     ]
    },
    {
     "name": "stdout",
     "output_type": "stream",
     "text": [
      "Epoch 1 of 10000\n",
      "Generator loss: 1.8657701772802016, Discriminator loss: 0.6857230582657983, Satisfaction: 0.04809921572313589\n"
     ]
    },
    {
     "name": "stderr",
     "output_type": "stream",
     "text": [
      "85it [00:01, 56.69it/s]                                                                                                                                     \n"
     ]
    },
    {
     "name": "stdout",
     "output_type": "stream",
     "text": [
      "Epoch 2 of 10000\n",
      "Generator loss: 1.850208994921516, Discriminator loss: 0.692818350651685, Satisfaction: 0.049909269678242066\n"
     ]
    },
    {
     "name": "stderr",
     "output_type": "stream",
     "text": [
      "85it [00:01, 55.96it/s]                                                                                                                                     \n"
     ]
    },
    {
     "name": "stdout",
     "output_type": "stream",
     "text": [
      "Epoch 3 of 10000\n",
      "Generator loss: 2.0068671394796933, Discriminator loss: 0.4882182829520282, Satisfaction: 0.03576731055098421\n"
     ]
    },
    {
     "name": "stderr",
     "output_type": "stream",
     "text": [
      "85it [00:01, 56.66it/s]                                                                                                                                     \n"
     ]
    },
    {
     "name": "stdout",
     "output_type": "stream",
     "text": [
      "Epoch 4 of 10000\n",
      "Generator loss: 2.1873453056111054, Discriminator loss: 0.48048133254051206, Satisfaction: 0.023992359747781473\n"
     ]
    },
    {
     "name": "stderr",
     "output_type": "stream",
     "text": [
      "85it [00:01, 57.02it/s]                                                                                                                                     \n"
     ]
    },
    {
     "name": "stdout",
     "output_type": "stream",
     "text": [
      "Epoch 5 of 10000\n",
      "Generator loss: 2.362270645534291, Discriminator loss: 0.46170027238481187, Satisfaction: 0.013062473342699162\n"
     ]
    },
    {
     "name": "stderr",
     "output_type": "stream",
     "text": [
      "85it [00:01, 57.52it/s]                                                                                                                                     \n"
     ]
    },
    {
     "name": "stdout",
     "output_type": "stream",
     "text": [
      "Epoch 6 of 10000\n",
      "Generator loss: 2.606859435754664, Discriminator loss: 0.3150949032867656, Satisfaction: 0.0060239950688008\n"
     ]
    },
    {
     "name": "stderr",
     "output_type": "stream",
     "text": [
      "85it [00:01, 55.08it/s]                                                                                                                                     \n"
     ]
    },
    {
     "name": "stdout",
     "output_type": "stream",
     "text": [
      "Epoch 7 of 10000\n",
      "Generator loss: 2.7846992632922003, Discriminator loss: 0.24477387701763825, Satisfaction: 0.0033647519618491915\n"
     ]
    },
    {
     "name": "stderr",
     "output_type": "stream",
     "text": [
      "85it [00:01, 55.44it/s]                                                                                                                                     \n"
     ]
    },
    {
     "name": "stdout",
     "output_type": "stream",
     "text": [
      "Epoch 8 of 10000\n",
      "Generator loss: 2.6864367232603183, Discriminator loss: 0.2815719006692662, Satisfaction: 0.01025484731859144\n"
     ]
    },
    {
     "name": "stderr",
     "output_type": "stream",
     "text": [
      "85it [00:01, 42.55it/s]                                                                                                                                     \n"
     ]
    },
    {
     "name": "stdout",
     "output_type": "stream",
     "text": [
      "Epoch 9 of 10000\n",
      "Generator loss: 2.7736270119162167, Discriminator loss: 0.2992346709265428, Satisfaction: 0.030622663568047916\n"
     ]
    },
    {
     "name": "stderr",
     "output_type": "stream",
     "text": [
      "85it [00:01, 51.17it/s]                                                                                                                                     \n"
     ]
    },
    {
     "name": "stdout",
     "output_type": "stream",
     "text": [
      "Epoch 10 of 10000\n",
      "Generator loss: 2.858991760366103, Discriminator loss: 0.2453213968697716, Satisfaction: 0.04727082011454246\n"
     ]
    },
    {
     "name": "stderr",
     "output_type": "stream",
     "text": [
      "85it [00:01, 57.11it/s]                                                                                                                                     \n"
     ]
    },
    {
     "name": "stdout",
     "output_type": "stream",
     "text": [
      "Epoch 11 of 10000\n",
      "Generator loss: 3.11988286411061, Discriminator loss: 0.20614130295374813, Satisfaction: 0.03425136210725588\n"
     ]
    },
    {
     "name": "stderr",
     "output_type": "stream",
     "text": [
      "85it [00:01, 56.20it/s]                                                                                                                                     \n"
     ]
    },
    {
     "name": "stdout",
     "output_type": "stream",
     "text": [
      "Epoch 12 of 10000\n",
      "Generator loss: 3.2573589044458724, Discriminator loss: 0.1786130594856599, Satisfaction: 0.0239974224830375\n"
     ]
    },
    {
     "name": "stderr",
     "output_type": "stream",
     "text": [
      "85it [00:01, 57.35it/s]                                                                                                                                     \n"
     ]
    },
    {
     "name": "stdout",
     "output_type": "stream",
     "text": [
      "Epoch 13 of 10000\n",
      "Generator loss: 3.922748590918148, Discriminator loss: 0.12466842378763592, Satisfaction: 0.010569099101292737\n"
     ]
    },
    {
     "name": "stderr",
     "output_type": "stream",
     "text": [
      "85it [00:01, 57.49it/s]                                                                                                                                     \n"
     ]
    },
    {
     "name": "stdout",
     "output_type": "stream",
     "text": [
      "Epoch 14 of 10000\n",
      "Generator loss: 3.8819143856272977, Discriminator loss: 0.09667293779990252, Satisfaction: 0.0040216109249740836\n"
     ]
    },
    {
     "name": "stderr",
     "output_type": "stream",
     "text": [
      "85it [00:01, 56.75it/s]                                                                                                                                     \n"
     ]
    },
    {
     "name": "stdout",
     "output_type": "stream",
     "text": [
      "Epoch 15 of 10000\n",
      "Generator loss: 3.4682203741634594, Discriminator loss: 0.12723625319845536, Satisfaction: 0.001723169141640777\n"
     ]
    },
    {
     "name": "stderr",
     "output_type": "stream",
     "text": [
      "85it [00:01, 51.31it/s]                                                                                                                                     \n"
     ]
    },
    {
     "name": "stdout",
     "output_type": "stream",
     "text": [
      "Epoch 16 of 10000\n",
      "Generator loss: 3.60428827790653, Discriminator loss: 0.11441662955810042, Satisfaction: 0.0014452953576384222\n"
     ]
    },
    {
     "name": "stderr",
     "output_type": "stream",
     "text": [
      "85it [00:01, 54.96it/s]                                                                                                                                     \n"
     ]
    },
    {
     "name": "stdout",
     "output_type": "stream",
     "text": [
      "Epoch 17 of 10000\n",
      "Generator loss: 3.8088728483985452, Discriminator loss: 0.09543462237891029, Satisfaction: 0.0019328883054721005\n"
     ]
    },
    {
     "name": "stderr",
     "output_type": "stream",
     "text": [
      "85it [00:01, 57.30it/s]                                                                                                                                     \n"
     ]
    },
    {
     "name": "stdout",
     "output_type": "stream",
     "text": [
      "Epoch 18 of 10000\n",
      "Generator loss: 4.072983486512128, Discriminator loss: 0.0783078517545672, Satisfaction: 0.0014068260946420623\n"
     ]
    },
    {
     "name": "stderr",
     "output_type": "stream",
     "text": [
      "85it [00:01, 56.95it/s]                                                                                                                                     \n"
     ]
    },
    {
     "name": "stdout",
     "output_type": "stream",
     "text": [
      "Epoch 19 of 10000\n",
      "Generator loss: 4.200006395227769, Discriminator loss: 0.07174088560483034, Satisfaction: 0.000668845434248557\n"
     ]
    },
    {
     "name": "stderr",
     "output_type": "stream",
     "text": [
      "85it [00:01, 54.94it/s]                                                                                                                                     \n"
     ]
    },
    {
     "name": "stdout",
     "output_type": "stream",
     "text": [
      "Epoch 20 of 10000\n",
      "Generator loss: 4.087532509074491, Discriminator loss: 0.08004516380674699, Satisfaction: 0.000283463134752203\n"
     ]
    },
    {
     "name": "stderr",
     "output_type": "stream",
     "text": [
      "85it [00:01, 52.94it/s]                                                                                                                                     \n"
     ]
    },
    {
     "name": "stdout",
     "output_type": "stream",
     "text": [
      "Epoch 21 of 10000\n",
      "Generator loss: 4.327629810221055, Discriminator loss: 0.06815885049017037, Satisfaction: 0.00014566525762133738\n"
     ]
    },
    {
     "name": "stderr",
     "output_type": "stream",
     "text": [
      "85it [00:01, 53.74it/s]                                                                                                                                     \n"
     ]
    },
    {
     "name": "stdout",
     "output_type": "stream",
     "text": [
      "Epoch 22 of 10000\n",
      "Generator loss: 4.505037927627564, Discriminator loss: 0.062498677521944046, Satisfaction: 0.0002851381433977033\n"
     ]
    },
    {
     "name": "stderr",
     "output_type": "stream",
     "text": [
      "85it [00:01, 53.90it/s]                                                                                                                                     \n"
     ]
    },
    {
     "name": "stdout",
     "output_type": "stream",
     "text": [
      "Epoch 23 of 10000\n",
      "Generator loss: 4.208565150990205, Discriminator loss: 0.06858824953875121, Satisfaction: 0.00027459113968207556\n"
     ]
    },
    {
     "name": "stderr",
     "output_type": "stream",
     "text": [
      "85it [00:01, 46.62it/s]                                                                                                                                     \n"
     ]
    },
    {
     "name": "stdout",
     "output_type": "stream",
     "text": [
      "Epoch 24 of 10000\n",
      "Generator loss: 4.568499032188864, Discriminator loss: 0.06817012321861352, Satisfaction: 0.0006034625774619224\n"
     ]
    },
    {
     "name": "stderr",
     "output_type": "stream",
     "text": [
      "85it [00:01, 44.49it/s]                                                                                                                                     \n"
     ]
    },
    {
     "name": "stdout",
     "output_type": "stream",
     "text": [
      "Epoch 25 of 10000\n",
      "Generator loss: 4.5544070776771095, Discriminator loss: 0.06194438077509403, Satisfaction: 0.001310487073051798\n"
     ]
    },
    {
     "name": "stderr",
     "output_type": "stream",
     "text": [
      "85it [00:02, 35.43it/s]                                                                                                                                     \n"
     ]
    },
    {
     "name": "stdout",
     "output_type": "stream",
     "text": [
      "Epoch 26 of 10000\n",
      "Generator loss: 4.451209514281329, Discriminator loss: 0.06264256330973962, Satisfaction: 0.0002730526904034538\n"
     ]
    },
    {
     "name": "stderr",
     "output_type": "stream",
     "text": [
      "85it [00:02, 42.38it/s]                                                                                                                                     \n"
     ]
    },
    {
     "name": "stdout",
     "output_type": "stream",
     "text": [
      "Epoch 27 of 10000\n",
      "Generator loss: 4.812294146593879, Discriminator loss: 0.04350071295219309, Satisfaction: 8.117237628218444e-05\n"
     ]
    },
    {
     "name": "stderr",
     "output_type": "stream",
     "text": [
      "85it [00:01, 57.06it/s]                                                                                                                                     \n"
     ]
    },
    {
     "name": "stdout",
     "output_type": "stream",
     "text": [
      "Epoch 28 of 10000\n",
      "Generator loss: 4.7790210555581485, Discriminator loss: 0.04541609497631297, Satisfaction: 0.00013955497901513487\n"
     ]
    },
    {
     "name": "stderr",
     "output_type": "stream",
     "text": [
      "85it [00:01, 55.88it/s]                                                                                                                                     \n"
     ]
    },
    {
     "name": "stdout",
     "output_type": "stream",
     "text": [
      "Epoch 29 of 10000\n",
      "Generator loss: 4.868859234978171, Discriminator loss: 0.04469771811409908, Satisfaction: 0.000783465982428478\n"
     ]
    },
    {
     "name": "stderr",
     "output_type": "stream",
     "text": [
      "85it [00:01, 56.46it/s]                                                                                                                                     \n"
     ]
    },
    {
     "name": "stdout",
     "output_type": "stream",
     "text": [
      "Epoch 30 of 10000\n",
      "Generator loss: 5.262471053179572, Discriminator loss: 0.033086693341679435, Satisfaction: 0.00019240258019742802\n"
     ]
    },
    {
     "name": "stderr",
     "output_type": "stream",
     "text": [
      "85it [00:01, 55.49it/s]                                                                                                                                     \n"
     ]
    },
    {
     "name": "stdout",
     "output_type": "stream",
     "text": [
      "Epoch 31 of 10000\n",
      "Generator loss: 5.572409573723288, Discriminator loss: 0.026585088385378614, Satisfaction: 1.3235837115430246e-05\n"
     ]
    },
    {
     "name": "stderr",
     "output_type": "stream",
     "text": [
      "85it [00:01, 56.38it/s]                                                                                                                                     \n"
     ]
    },
    {
     "name": "stdout",
     "output_type": "stream",
     "text": [
      "Epoch 32 of 10000\n",
      "Generator loss: 5.878742700464585, Discriminator loss: 0.021971759638365576, Satisfaction: 2.187844785339621e-06\n"
     ]
    },
    {
     "name": "stderr",
     "output_type": "stream",
     "text": [
      "85it [00:01, 56.71it/s]                                                                                                                                     \n"
     ]
    },
    {
     "name": "stdout",
     "output_type": "stream",
     "text": [
      "Epoch 33 of 10000\n",
      "Generator loss: 5.6549011847552135, Discriminator loss: 0.02305908749866135, Satisfaction: 1.753077871104752e-08\n"
     ]
    },
    {
     "name": "stderr",
     "output_type": "stream",
     "text": [
      "85it [00:01, 55.78it/s]                                                                                                                                     \n"
     ]
    },
    {
     "name": "stdout",
     "output_type": "stream",
     "text": [
      "Epoch 34 of 10000\n",
      "Generator loss: 5.95348663891063, Discriminator loss: 0.018391416210900336, Satisfaction: 0.0\n"
     ]
    },
    {
     "name": "stderr",
     "output_type": "stream",
     "text": [
      "85it [00:01, 56.58it/s]                                                                                                                                     \n"
     ]
    },
    {
     "name": "stdout",
     "output_type": "stream",
     "text": [
      "Epoch 35 of 10000\n",
      "Generator loss: 6.319185486961813, Discriminator loss: 0.015700449224780588, Satisfaction: 0.0\n"
     ]
    },
    {
     "name": "stderr",
     "output_type": "stream",
     "text": [
      "85it [00:01, 55.97it/s]                                                                                                                                     \n"
     ]
    },
    {
     "name": "stdout",
     "output_type": "stream",
     "text": [
      "Epoch 36 of 10000\n",
      "Generator loss: 6.291677716199089, Discriminator loss: 0.016434704791754483, Satisfaction: 0.0\n"
     ]
    },
    {
     "name": "stderr",
     "output_type": "stream",
     "text": [
      "85it [00:01, 55.69it/s]                                                                                                                                     \n"
     ]
    },
    {
     "name": "stdout",
     "output_type": "stream",
     "text": [
      "Epoch 37 of 10000\n",
      "Generator loss: 6.389656942030963, Discriminator loss: 0.01550533756175462, Satisfaction: 0.0\n"
     ]
    },
    {
     "name": "stderr",
     "output_type": "stream",
     "text": [
      "85it [00:01, 56.34it/s]                                                                                                                                     \n"
     ]
    },
    {
     "name": "stdout",
     "output_type": "stream",
     "text": [
      "Epoch 38 of 10000\n",
      "Generator loss: 6.6304995985592114, Discriminator loss: 0.018784298632732208, Satisfaction: 0.0\n"
     ]
    },
    {
     "name": "stderr",
     "output_type": "stream",
     "text": [
      "85it [00:01, 56.09it/s]                                                                                                                                     \n"
     ]
    },
    {
     "name": "stdout",
     "output_type": "stream",
     "text": [
      "Epoch 39 of 10000\n",
      "Generator loss: 7.044386521507712, Discriminator loss: 0.008496676182703061, Satisfaction: 0.0\n"
     ]
    },
    {
     "name": "stderr",
     "output_type": "stream",
     "text": [
      "85it [00:01, 56.33it/s]                                                                                                                                     \n"
     ]
    },
    {
     "name": "stdout",
     "output_type": "stream",
     "text": [
      "Epoch 40 of 10000\n",
      "Generator loss: 7.238965982549331, Discriminator loss: 0.00756546898799784, Satisfaction: 0.0\n"
     ]
    },
    {
     "name": "stderr",
     "output_type": "stream",
     "text": [
      "85it [00:01, 56.72it/s]                                                                                                                                     \n"
     ]
    },
    {
     "name": "stdout",
     "output_type": "stream",
     "text": [
      "Epoch 41 of 10000\n",
      "Generator loss: 7.4149151914259965, Discriminator loss: 0.006700957558282158, Satisfaction: 0.0\n"
     ]
    },
    {
     "name": "stderr",
     "output_type": "stream",
     "text": [
      "85it [00:01, 55.05it/s]                                                                                                                                     \n"
     ]
    },
    {
     "name": "stdout",
     "output_type": "stream",
     "text": [
      "Epoch 42 of 10000\n",
      "Generator loss: 7.663153104221119, Discriminator loss: 0.005700923357268467, Satisfaction: 0.0\n"
     ]
    },
    {
     "name": "stderr",
     "output_type": "stream",
     "text": [
      "85it [00:02, 37.66it/s]                                                                                                                                     \n"
     ]
    },
    {
     "name": "stdout",
     "output_type": "stream",
     "text": [
      "Epoch 43 of 10000\n",
      "Generator loss: 7.601096153259277, Discriminator loss: 0.005229345489950741, Satisfaction: 0.0\n"
     ]
    },
    {
     "name": "stderr",
     "output_type": "stream",
     "text": [
      "85it [00:01, 55.78it/s]                                                                                                                                     \n"
     ]
    },
    {
     "name": "stdout",
     "output_type": "stream",
     "text": [
      "Epoch 44 of 10000\n",
      "Generator loss: 7.898558100532083, Discriminator loss: 0.004723189672564759, Satisfaction: 0.0\n"
     ]
    },
    {
     "name": "stderr",
     "output_type": "stream",
     "text": [
      "85it [00:01, 55.06it/s]                                                                                                                                     \n"
     ]
    },
    {
     "name": "stdout",
     "output_type": "stream",
     "text": [
      "Epoch 45 of 10000\n",
      "Generator loss: 8.127324093089385, Discriminator loss: 0.004130152651273152, Satisfaction: 0.0\n"
     ]
    },
    {
     "name": "stderr",
     "output_type": "stream",
     "text": [
      "85it [00:01, 53.08it/s]                                                                                                                                     \n"
     ]
    },
    {
     "name": "stdout",
     "output_type": "stream",
     "text": [
      "Epoch 46 of 10000\n",
      "Generator loss: 7.744885624156279, Discriminator loss: 0.004279611732208115, Satisfaction: 0.0\n"
     ]
    },
    {
     "name": "stderr",
     "output_type": "stream",
     "text": [
      "85it [00:01, 55.56it/s]                                                                                                                                     \n"
     ]
    },
    {
     "name": "stdout",
     "output_type": "stream",
     "text": [
      "Epoch 47 of 10000\n",
      "Generator loss: 8.165305210562313, Discriminator loss: 0.0037463838631725485, Satisfaction: 0.0\n"
     ]
    },
    {
     "name": "stderr",
     "output_type": "stream",
     "text": [
      "85it [00:01, 56.06it/s]                                                                                                                                     \n"
     ]
    },
    {
     "name": "stdout",
     "output_type": "stream",
     "text": [
      "Epoch 48 of 10000\n",
      "Generator loss: 8.29393061469583, Discriminator loss: 0.003883400232092861, Satisfaction: 0.0\n"
     ]
    },
    {
     "name": "stderr",
     "output_type": "stream",
     "text": [
      "85it [00:01, 56.06it/s]                                                                                                                                     \n"
     ]
    },
    {
     "name": "stdout",
     "output_type": "stream",
     "text": [
      "Epoch 49 of 10000\n",
      "Generator loss: 8.786293343936697, Discriminator loss: 0.002746226079761982, Satisfaction: 0.0\n"
     ]
    },
    {
     "name": "stderr",
     "output_type": "stream",
     "text": [
      "85it [00:01, 55.98it/s]                                                                                                                                     \n"
     ]
    },
    {
     "name": "stdout",
     "output_type": "stream",
     "text": [
      "Epoch 50 of 10000\n",
      "Generator loss: 9.007363397934858, Discriminator loss: 0.0023053810527712544, Satisfaction: 0.0\n"
     ]
    },
    {
     "name": "stderr",
     "output_type": "stream",
     "text": [
      "85it [00:01, 56.93it/s]                                                                                                                                     \n"
     ]
    },
    {
     "name": "stdout",
     "output_type": "stream",
     "text": [
      "Epoch 51 of 10000\n",
      "Generator loss: 9.064465836917654, Discriminator loss: 0.002039857951732462, Satisfaction: 0.0\n"
     ]
    },
    {
     "name": "stderr",
     "output_type": "stream",
     "text": [
      "85it [00:01, 54.82it/s]                                                                                                                                     \n"
     ]
    },
    {
     "name": "stdout",
     "output_type": "stream",
     "text": [
      "Epoch 52 of 10000\n",
      "Generator loss: 8.892666311825023, Discriminator loss: 0.003050617952420212, Satisfaction: 0.0\n"
     ]
    },
    {
     "name": "stderr",
     "output_type": "stream",
     "text": [
      "85it [00:01, 55.32it/s]                                                                                                                                     \n"
     ]
    },
    {
     "name": "stdout",
     "output_type": "stream",
     "text": [
      "Epoch 53 of 10000\n",
      "Generator loss: 9.473337863473331, Discriminator loss: 0.0017626477884786094, Satisfaction: 0.0\n"
     ]
    },
    {
     "name": "stderr",
     "output_type": "stream",
     "text": [
      "85it [00:01, 42.66it/s]                                                                                                                                     \n"
     ]
    },
    {
     "name": "stdout",
     "output_type": "stream",
     "text": [
      "Epoch 54 of 10000\n",
      "Generator loss: 9.91906552034266, Discriminator loss: 0.0015190310906344916, Satisfaction: 0.0\n"
     ]
    },
    {
     "name": "stderr",
     "output_type": "stream",
     "text": [
      "85it [00:02, 31.52it/s]                                                                                                                                     \n"
     ]
    },
    {
     "name": "stdout",
     "output_type": "stream",
     "text": [
      "Epoch 55 of 10000\n",
      "Generator loss: 9.904696554296157, Discriminator loss: 0.001345561392030076, Satisfaction: 0.0\n"
     ]
    },
    {
     "name": "stderr",
     "output_type": "stream",
     "text": [
      "85it [00:01, 51.80it/s]                                                                                                                                     \n"
     ]
    },
    {
     "name": "stdout",
     "output_type": "stream",
     "text": [
      "Epoch 56 of 10000\n",
      "Generator loss: 9.852591851178337, Discriminator loss: 0.0014420269803582307, Satisfaction: 0.0\n"
     ]
    },
    {
     "name": "stderr",
     "output_type": "stream",
     "text": [
      "85it [00:01, 43.90it/s]                                                                                                                                     \n"
     ]
    },
    {
     "name": "stdout",
     "output_type": "stream",
     "text": [
      "Epoch 57 of 10000\n",
      "Generator loss: 9.291396051294663, Discriminator loss: 0.00173708652420079, Satisfaction: 0.0\n"
     ]
    },
    {
     "name": "stderr",
     "output_type": "stream",
     "text": [
      "85it [00:01, 55.86it/s]                                                                                                                                     \n"
     ]
    },
    {
     "name": "stdout",
     "output_type": "stream",
     "text": [
      "Epoch 58 of 10000\n",
      "Generator loss: 9.520277718936695, Discriminator loss: 0.001451746335335295, Satisfaction: 0.0\n"
     ]
    },
    {
     "name": "stderr",
     "output_type": "stream",
     "text": [
      "85it [00:01, 49.59it/s]                                                                                                                                     \n"
     ]
    },
    {
     "name": "stdout",
     "output_type": "stream",
     "text": [
      "Epoch 59 of 10000\n",
      "Generator loss: 9.419027373370003, Discriminator loss: 0.0015095389680936933, Satisfaction: 0.0\n"
     ]
    },
    {
     "name": "stderr",
     "output_type": "stream",
     "text": [
      "85it [00:01, 52.09it/s]                                                                                                                                     \n"
     ]
    },
    {
     "name": "stdout",
     "output_type": "stream",
     "text": [
      "Epoch 60 of 10000\n",
      "Generator loss: 9.752564228282255, Discriminator loss: 0.0013575911946485148, Satisfaction: 0.0\n"
     ]
    },
    {
     "name": "stderr",
     "output_type": "stream",
     "text": [
      "85it [00:01, 51.54it/s]                                                                                                                                     \n"
     ]
    },
    {
     "name": "stdout",
     "output_type": "stream",
     "text": [
      "Epoch 61 of 10000\n",
      "Generator loss: 9.527690203049604, Discriminator loss: 0.0013014421969487825, Satisfaction: 0.0\n"
     ]
    },
    {
     "name": "stderr",
     "output_type": "stream",
     "text": [
      "85it [00:01, 48.13it/s]                                                                                                                                     \n"
     ]
    },
    {
     "name": "stdout",
     "output_type": "stream",
     "text": [
      "Epoch 62 of 10000\n",
      "Generator loss: 9.629101080052992, Discriminator loss: 0.0013182388529564967, Satisfaction: 0.0\n"
     ]
    },
    {
     "name": "stderr",
     "output_type": "stream",
     "text": [
      "85it [00:01, 52.15it/s]                                                                                                                                     \n"
     ]
    },
    {
     "name": "stdout",
     "output_type": "stream",
     "text": [
      "Epoch 63 of 10000\n",
      "Generator loss: 9.97443811753217, Discriminator loss: 0.0010518749549245352, Satisfaction: 0.0\n"
     ]
    },
    {
     "name": "stderr",
     "output_type": "stream",
     "text": [
      "85it [00:01, 48.89it/s]                                                                                                                                     \n"
     ]
    },
    {
     "name": "stdout",
     "output_type": "stream",
     "text": [
      "Epoch 64 of 10000\n",
      "Generator loss: 10.37861753351548, Discriminator loss: 0.0011877321922357249, Satisfaction: 0.0\n"
     ]
    },
    {
     "name": "stderr",
     "output_type": "stream",
     "text": [
      "85it [00:01, 50.89it/s]                                                                                                                                     \n"
     ]
    },
    {
     "name": "stdout",
     "output_type": "stream",
     "text": [
      "Epoch 65 of 10000\n",
      "Generator loss: 10.10821953941794, Discriminator loss: 0.0009311360882266479, Satisfaction: 0.0\n"
     ]
    },
    {
     "name": "stderr",
     "output_type": "stream",
     "text": [
      "85it [00:01, 52.30it/s]                                                                                                                                     \n"
     ]
    },
    {
     "name": "stdout",
     "output_type": "stream",
     "text": [
      "Epoch 66 of 10000\n",
      "Generator loss: 9.900132740245146, Discriminator loss: 0.0010694983240682632, Satisfaction: 0.0\n"
     ]
    },
    {
     "name": "stderr",
     "output_type": "stream",
     "text": [
      "85it [00:01, 54.00it/s]                                                                                                                                     \n"
     ]
    },
    {
     "name": "stdout",
     "output_type": "stream",
     "text": [
      "Epoch 67 of 10000\n",
      "Generator loss: 10.23649803610409, Discriminator loss: 0.0008462865830070394, Satisfaction: 0.0\n"
     ]
    },
    {
     "name": "stderr",
     "output_type": "stream",
     "text": [
      "85it [00:01, 52.70it/s]                                                                                                                                     \n"
     ]
    },
    {
     "name": "stdout",
     "output_type": "stream",
     "text": [
      "Epoch 68 of 10000\n",
      "Generator loss: 10.323429522794836, Discriminator loss: 0.0007539901221581899, Satisfaction: 0.0\n"
     ]
    },
    {
     "name": "stderr",
     "output_type": "stream",
     "text": [
      "85it [00:01, 52.98it/s]                                                                                                                                     \n"
     ]
    },
    {
     "name": "stdout",
     "output_type": "stream",
     "text": [
      "Epoch 69 of 10000\n",
      "Generator loss: 10.608493771272547, Discriminator loss: 0.0007520490010981174, Satisfaction: 0.0\n"
     ]
    },
    {
     "name": "stderr",
     "output_type": "stream",
     "text": [
      "85it [00:01, 56.57it/s]                                                                                                                                     \n"
     ]
    },
    {
     "name": "stdout",
     "output_type": "stream",
     "text": [
      "Epoch 70 of 10000\n",
      "Generator loss: 10.707558205548455, Discriminator loss: 0.0007553629780886695, Satisfaction: 0.0\n"
     ]
    },
    {
     "name": "stderr",
     "output_type": "stream",
     "text": [
      "85it [00:01, 57.67it/s]                                                                                                                                     \n"
     ]
    },
    {
     "name": "stdout",
     "output_type": "stream",
     "text": [
      "Epoch 71 of 10000\n",
      "Generator loss: 10.754051298253676, Discriminator loss: 0.0006592959394979784, Satisfaction: 0.0\n"
     ]
    },
    {
     "name": "stderr",
     "output_type": "stream",
     "text": [
      "85it [00:01, 57.59it/s]                                                                                                                                     \n"
     ]
    },
    {
     "name": "stdout",
     "output_type": "stream",
     "text": [
      "Epoch 72 of 10000\n",
      "Generator loss: 10.351687913782456, Discriminator loss: 0.0007691718932405552, Satisfaction: 0.0\n"
     ]
    },
    {
     "name": "stderr",
     "output_type": "stream",
     "text": [
      "85it [00:01, 55.90it/s]                                                                                                                                     \n"
     ]
    },
    {
     "name": "stdout",
     "output_type": "stream",
     "text": [
      "Epoch 73 of 10000\n",
      "Generator loss: 10.781746606265797, Discriminator loss: 0.0006514344824929995, Satisfaction: 0.0\n"
     ]
    },
    {
     "name": "stderr",
     "output_type": "stream",
     "text": [
      "85it [00:01, 52.14it/s]                                                                                                                                     \n"
     ]
    },
    {
     "name": "stdout",
     "output_type": "stream",
     "text": [
      "Epoch 74 of 10000\n",
      "Generator loss: 11.13927521425135, Discriminator loss: 0.0005274950644782032, Satisfaction: 0.0\n"
     ]
    },
    {
     "name": "stderr",
     "output_type": "stream",
     "text": [
      "85it [00:01, 57.37it/s]                                                                                                                                     \n"
     ]
    },
    {
     "name": "stdout",
     "output_type": "stream",
     "text": [
      "Epoch 75 of 10000\n",
      "Generator loss: 10.40795436185949, Discriminator loss: 0.0006951966245918918, Satisfaction: 0.0\n"
     ]
    },
    {
     "name": "stderr",
     "output_type": "stream",
     "text": [
      "85it [00:01, 48.85it/s]                                                                                                                                     \n"
     ]
    },
    {
     "name": "stdout",
     "output_type": "stream",
     "text": [
      "Epoch 76 of 10000\n",
      "Generator loss: 10.198522006764131, Discriminator loss: 0.0006506531663677272, Satisfaction: 0.0\n"
     ]
    },
    {
     "name": "stderr",
     "output_type": "stream",
     "text": [
      "85it [00:01, 52.10it/s]                                                                                                                                     \n"
     ]
    },
    {
     "name": "stdout",
     "output_type": "stream",
     "text": [
      "Epoch 77 of 10000\n",
      "Generator loss: 10.772760739045985, Discriminator loss: 0.0005491369963719454, Satisfaction: 0.0\n"
     ]
    },
    {
     "name": "stderr",
     "output_type": "stream",
     "text": [
      "85it [00:02, 42.05it/s]                                                                                                                                     \n"
     ]
    },
    {
     "name": "stdout",
     "output_type": "stream",
     "text": [
      "Epoch 78 of 10000\n",
      "Generator loss: 10.717293997371899, Discriminator loss: 0.0005770593419369748, Satisfaction: 0.0\n"
     ]
    },
    {
     "name": "stderr",
     "output_type": "stream",
     "text": [
      "85it [00:01, 44.56it/s]                                                                                                                                     \n"
     ]
    },
    {
     "name": "stdout",
     "output_type": "stream",
     "text": [
      "Epoch 79 of 10000\n",
      "Generator loss: 11.093663484909955, Discriminator loss: 0.00047731234645813375, Satisfaction: 0.0\n"
     ]
    },
    {
     "name": "stderr",
     "output_type": "stream",
     "text": [
      "85it [00:01, 47.39it/s]                                                                                                                                     \n"
     ]
    },
    {
     "name": "stdout",
     "output_type": "stream",
     "text": [
      "Epoch 80 of 10000\n",
      "Generator loss: 10.927613897884592, Discriminator loss: 0.0004575783739496461, Satisfaction: 0.0\n"
     ]
    },
    {
     "name": "stderr",
     "output_type": "stream",
     "text": [
      "85it [00:01, 49.46it/s]                                                                                                                                     \n"
     ]
    },
    {
     "name": "stdout",
     "output_type": "stream",
     "text": [
      "Epoch 81 of 10000\n",
      "Generator loss: 10.936354839100558, Discriminator loss: 0.0004764911255573251, Satisfaction: 0.0\n"
     ]
    },
    {
     "name": "stderr",
     "output_type": "stream",
     "text": [
      "85it [00:01, 58.06it/s]                                                                                                                                     \n"
     ]
    },
    {
     "name": "stdout",
     "output_type": "stream",
     "text": [
      "Epoch 82 of 10000\n",
      "Generator loss: 11.407741535411162, Discriminator loss: 0.0003663026765399777, Satisfaction: 0.0\n"
     ]
    },
    {
     "name": "stderr",
     "output_type": "stream",
     "text": [
      "85it [00:01, 44.28it/s]                                                                                                                                     \n"
     ]
    },
    {
     "name": "stdout",
     "output_type": "stream",
     "text": [
      "Epoch 83 of 10000\n",
      "Generator loss: 11.765396892323214, Discriminator loss: 0.0003370667826589745, Satisfaction: 0.0\n"
     ]
    },
    {
     "name": "stderr",
     "output_type": "stream",
     "text": [
      "85it [00:01, 44.37it/s]                                                                                                                                     \n"
     ]
    },
    {
     "name": "stdout",
     "output_type": "stream",
     "text": [
      "Epoch 84 of 10000\n",
      "Generator loss: 11.926300463956945, Discriminator loss: 0.0003838391139973229, Satisfaction: 0.0\n"
     ]
    },
    {
     "name": "stderr",
     "output_type": "stream",
     "text": [
      "85it [00:02, 37.56it/s]                                                                                                                                     \n"
     ]
    },
    {
     "name": "stdout",
     "output_type": "stream",
     "text": [
      "Epoch 85 of 10000\n",
      "Generator loss: 12.076744988385368, Discriminator loss: 0.000271078321041868, Satisfaction: 0.0\n"
     ]
    },
    {
     "name": "stderr",
     "output_type": "stream",
     "text": [
      "85it [00:02, 40.88it/s]                                                                                                                                     \n"
     ]
    },
    {
     "name": "stdout",
     "output_type": "stream",
     "text": [
      "Epoch 86 of 10000\n",
      "Generator loss: 12.415533065795898, Discriminator loss: 0.000268332202840076, Satisfaction: 0.0\n"
     ]
    },
    {
     "name": "stderr",
     "output_type": "stream",
     "text": [
      "85it [00:02, 39.61it/s]                                                                                                                                     \n"
     ]
    },
    {
     "name": "stdout",
     "output_type": "stream",
     "text": [
      "Epoch 87 of 10000\n",
      "Generator loss: 12.228239115546732, Discriminator loss: 0.0002741100019193254, Satisfaction: 0.0\n"
     ]
    },
    {
     "name": "stderr",
     "output_type": "stream",
     "text": [
      "85it [00:01, 52.40it/s]                                                                                                                                     \n"
     ]
    },
    {
     "name": "stdout",
     "output_type": "stream",
     "text": [
      "Epoch 88 of 10000\n",
      "Generator loss: 11.949268341064453, Discriminator loss: 0.00026252850794288165, Satisfaction: 0.0\n"
     ]
    },
    {
     "name": "stderr",
     "output_type": "stream",
     "text": [
      "85it [00:01, 55.04it/s]                                                                                                                                     \n"
     ]
    },
    {
     "name": "stdout",
     "output_type": "stream",
     "text": [
      "Epoch 89 of 10000\n",
      "Generator loss: 12.058751532610724, Discriminator loss: 0.0002771470567334772, Satisfaction: 0.0\n"
     ]
    },
    {
     "name": "stderr",
     "output_type": "stream",
     "text": [
      "85it [00:01, 46.67it/s]                                                                                                                                     \n"
     ]
    },
    {
     "name": "stdout",
     "output_type": "stream",
     "text": [
      "Epoch 90 of 10000\n",
      "Generator loss: 11.866740350162281, Discriminator loss: 0.0002823534732348943, Satisfaction: 0.0\n"
     ]
    },
    {
     "name": "stderr",
     "output_type": "stream",
     "text": [
      "85it [00:01, 44.23it/s]                                                                                                                                     \n"
     ]
    },
    {
     "name": "stdout",
     "output_type": "stream",
     "text": [
      "Epoch 91 of 10000\n",
      "Generator loss: 10.517792724160588, Discriminator loss: 0.0005149125572643243, Satisfaction: 0.0\n"
     ]
    },
    {
     "name": "stderr",
     "output_type": "stream",
     "text": [
      "85it [00:01, 50.39it/s]                                                                                                                                     \n"
     ]
    },
    {
     "name": "stdout",
     "output_type": "stream",
     "text": [
      "Epoch 92 of 10000\n",
      "Generator loss: 11.545110915688907, Discriminator loss: 0.0002784011219559676, Satisfaction: 0.0\n"
     ]
    },
    {
     "name": "stderr",
     "output_type": "stream",
     "text": [
      "85it [00:02, 38.12it/s]                                                                                                                                     \n"
     ]
    },
    {
     "name": "stdout",
     "output_type": "stream",
     "text": [
      "Epoch 93 of 10000\n",
      "Generator loss: 11.991331279979033, Discriminator loss: 0.00024073733169215677, Satisfaction: 0.0\n"
     ]
    },
    {
     "name": "stderr",
     "output_type": "stream",
     "text": [
      "85it [00:02, 32.08it/s]                                                                                                                                     \n"
     ]
    },
    {
     "name": "stdout",
     "output_type": "stream",
     "text": [
      "Epoch 94 of 10000\n",
      "Generator loss: 12.295971163581399, Discriminator loss: 0.000220023601757609, Satisfaction: 0.0\n"
     ]
    },
    {
     "name": "stderr",
     "output_type": "stream",
     "text": [
      "85it [00:01, 55.16it/s]                                                                                                                                     \n"
     ]
    },
    {
     "name": "stdout",
     "output_type": "stream",
     "text": [
      "Epoch 95 of 10000\n",
      "Generator loss: 12.476207340464873, Discriminator loss: 0.00019155881283736294, Satisfaction: 0.0\n"
     ]
    },
    {
     "name": "stderr",
     "output_type": "stream",
     "text": [
      "85it [00:01, 58.80it/s]                                                                                                                                     \n"
     ]
    },
    {
     "name": "stdout",
     "output_type": "stream",
     "text": [
      "Epoch 96 of 10000\n",
      "Generator loss: 12.630015047858743, Discriminator loss: 0.00018006070501595627, Satisfaction: 0.0\n"
     ]
    },
    {
     "name": "stderr",
     "output_type": "stream",
     "text": [
      "85it [00:01, 59.20it/s]                                                                                                                                     \n"
     ]
    },
    {
     "name": "stdout",
     "output_type": "stream",
     "text": [
      "Epoch 97 of 10000\n",
      "Generator loss: 12.754463588490205, Discriminator loss: 0.0001636746917724582, Satisfaction: 0.0\n"
     ]
    },
    {
     "name": "stderr",
     "output_type": "stream",
     "text": [
      "85it [00:01, 58.64it/s]                                                                                                                                     \n"
     ]
    },
    {
     "name": "stdout",
     "output_type": "stream",
     "text": [
      "Epoch 98 of 10000\n",
      "Generator loss: 12.953701613931095, Discriminator loss: 0.00016868707928498384, Satisfaction: 0.0\n"
     ]
    },
    {
     "name": "stderr",
     "output_type": "stream",
     "text": [
      "85it [00:01, 57.57it/s]                                                                                                                                     \n"
     ]
    },
    {
     "name": "stdout",
     "output_type": "stream",
     "text": [
      "Epoch 99 of 10000\n",
      "Generator loss: 13.355810513215907, Discriminator loss: 0.000168685558353044, Satisfaction: 0.0\n"
     ]
    },
    {
     "name": "stderr",
     "output_type": "stream",
     "text": [
      "85it [00:01, 58.99it/s]                                                                                                                                     \n"
     ]
    },
    {
     "name": "stdout",
     "output_type": "stream",
     "text": [
      "Epoch 100 of 10000\n",
      "Generator loss: 13.533505765129538, Discriminator loss: 0.00013289493722635706, Satisfaction: 0.0\n"
     ]
    },
    {
     "name": "stderr",
     "output_type": "stream",
     "text": [
      "85it [00:01, 57.05it/s]                                                                                                                                     \n"
     ]
    },
    {
     "name": "stdout",
     "output_type": "stream",
     "text": [
      "Epoch 101 of 10000\n",
      "Generator loss: 13.621587293288288, Discriminator loss: 0.00012961105470929074, Satisfaction: 0.0\n"
     ]
    },
    {
     "name": "stderr",
     "output_type": "stream",
     "text": [
      "85it [00:01, 59.10it/s]                                                                                                                                     \n"
     ]
    },
    {
     "name": "stdout",
     "output_type": "stream",
     "text": [
      "Epoch 102 of 10000\n",
      "Generator loss: 13.625782360750087, Discriminator loss: 0.00012491677463164223, Satisfaction: 0.0\n"
     ]
    },
    {
     "name": "stderr",
     "output_type": "stream",
     "text": [
      "85it [00:01, 59.10it/s]                                                                                                                                     \n"
     ]
    },
    {
     "name": "stdout",
     "output_type": "stream",
     "text": [
      "Epoch 103 of 10000\n",
      "Generator loss: 13.289200524722828, Discriminator loss: 0.00011695350878974696, Satisfaction: 0.0\n"
     ]
    },
    {
     "name": "stderr",
     "output_type": "stream",
     "text": [
      "85it [00:01, 59.35it/s]                                                                                                                                     \n"
     ]
    },
    {
     "name": "stdout",
     "output_type": "stream",
     "text": [
      "Epoch 104 of 10000\n",
      "Generator loss: 12.664454303068274, Discriminator loss: 0.00015556332248653395, Satisfaction: 0.0\n"
     ]
    },
    {
     "name": "stderr",
     "output_type": "stream",
     "text": [
      "85it [00:01, 55.96it/s]                                                                                                                                     \n"
     ]
    },
    {
     "name": "stdout",
     "output_type": "stream",
     "text": [
      "Epoch 105 of 10000\n",
      "Generator loss: 10.475465976490694, Discriminator loss: 0.0004660671908127637, Satisfaction: 0.0\n"
     ]
    },
    {
     "name": "stderr",
     "output_type": "stream",
     "text": [
      "85it [00:01, 54.05it/s]                                                                                                                                     \n"
     ]
    },
    {
     "name": "stdout",
     "output_type": "stream",
     "text": [
      "Epoch 106 of 10000\n",
      "Generator loss: 11.005482999016257, Discriminator loss: 0.00042400619645109947, Satisfaction: 0.0\n"
     ]
    },
    {
     "name": "stderr",
     "output_type": "stream",
     "text": [
      "85it [00:01, 48.08it/s]                                                                                                                                     \n"
     ]
    },
    {
     "name": "stdout",
     "output_type": "stream",
     "text": [
      "Epoch 107 of 10000\n",
      "Generator loss: 10.630089793485753, Discriminator loss: 0.00031113007237710166, Satisfaction: 0.0\n"
     ]
    },
    {
     "name": "stderr",
     "output_type": "stream",
     "text": [
      "85it [00:01, 57.34it/s]                                                                                                                                     \n"
     ]
    },
    {
     "name": "stdout",
     "output_type": "stream",
     "text": [
      "Epoch 108 of 10000\n",
      "Generator loss: 11.790193815792309, Discriminator loss: 0.00023494463205091, Satisfaction: 0.0\n"
     ]
    },
    {
     "name": "stderr",
     "output_type": "stream",
     "text": [
      "85it [00:01, 57.63it/s]                                                                                                                                     \n"
     ]
    },
    {
     "name": "stdout",
     "output_type": "stream",
     "text": [
      "Epoch 109 of 10000\n",
      "Generator loss: 12.051277934803682, Discriminator loss: 0.00015741143189884228, Satisfaction: 0.0\n"
     ]
    },
    {
     "name": "stderr",
     "output_type": "stream",
     "text": [
      "85it [00:01, 58.68it/s]                                                                                                                                     \n"
     ]
    },
    {
     "name": "stdout",
     "output_type": "stream",
     "text": [
      "Epoch 110 of 10000\n",
      "Generator loss: 11.398238922567929, Discriminator loss: 0.00020442080747349846, Satisfaction: 0.0\n"
     ]
    },
    {
     "name": "stderr",
     "output_type": "stream",
     "text": [
      "85it [00:01, 58.68it/s]                                                                                                                                     \n"
     ]
    },
    {
     "name": "stdout",
     "output_type": "stream",
     "text": [
      "Epoch 111 of 10000\n",
      "Generator loss: 12.06585677651798, Discriminator loss: 0.00013662665737416212, Satisfaction: 0.0\n"
     ]
    },
    {
     "name": "stderr",
     "output_type": "stream",
     "text": [
      "85it [00:01, 58.41it/s]                                                                                                                                     \n"
     ]
    },
    {
     "name": "stdout",
     "output_type": "stream",
     "text": [
      "Epoch 112 of 10000\n",
      "Generator loss: 11.52977918737075, Discriminator loss: 0.00017318163441172254, Satisfaction: 0.0\n"
     ]
    },
    {
     "name": "stderr",
     "output_type": "stream",
     "text": [
      "85it [00:01, 57.30it/s]                                                                                                                                     \n"
     ]
    },
    {
     "name": "stdout",
     "output_type": "stream",
     "text": [
      "Epoch 113 of 10000\n",
      "Generator loss: 12.533824628942153, Discriminator loss: 0.00015237599834697047, Satisfaction: 0.0\n"
     ]
    },
    {
     "name": "stderr",
     "output_type": "stream",
     "text": [
      "85it [00:01, 53.48it/s]                                                                                                                                     \n"
     ]
    },
    {
     "name": "stdout",
     "output_type": "stream",
     "text": [
      "Epoch 114 of 10000\n",
      "Generator loss: 13.26683588588939, Discriminator loss: 8.717936250511283e-05, Satisfaction: 0.0\n"
     ]
    },
    {
     "name": "stderr",
     "output_type": "stream",
     "text": [
      "85it [00:02, 41.63it/s]                                                                                                                                     \n"
     ]
    },
    {
     "name": "stdout",
     "output_type": "stream",
     "text": [
      "Epoch 115 of 10000\n",
      "Generator loss: 13.450155931360582, Discriminator loss: 8.487642722577542e-05, Satisfaction: 0.0\n"
     ]
    },
    {
     "name": "stderr",
     "output_type": "stream",
     "text": [
      "85it [00:01, 54.79it/s]                                                                                                                                     \n"
     ]
    },
    {
     "name": "stdout",
     "output_type": "stream",
     "text": [
      "Epoch 116 of 10000\n",
      "Generator loss: 12.050214161592372, Discriminator loss: 0.00011634698423543287, Satisfaction: 0.0\n"
     ]
    },
    {
     "name": "stderr",
     "output_type": "stream",
     "text": [
      "85it [00:01, 58.28it/s]                                                                                                                                     \n"
     ]
    },
    {
     "name": "stdout",
     "output_type": "stream",
     "text": [
      "Epoch 117 of 10000\n",
      "Generator loss: 11.567911495881923, Discriminator loss: 0.0003146525418046889, Satisfaction: 0.0\n"
     ]
    },
    {
     "name": "stderr",
     "output_type": "stream",
     "text": [
      "85it [00:02, 41.98it/s]                                                                                                                                     \n"
     ]
    },
    {
     "name": "stdout",
     "output_type": "stream",
     "text": [
      "Epoch 118 of 10000\n",
      "Generator loss: 12.207491280050839, Discriminator loss: 0.0001563620544723509, Satisfaction: 0.0\n"
     ]
    },
    {
     "name": "stderr",
     "output_type": "stream",
     "text": [
      "85it [00:02, 36.42it/s]                                                                                                                                     \n"
     ]
    },
    {
     "name": "stdout",
     "output_type": "stream",
     "text": [
      "Epoch 119 of 10000\n",
      "Generator loss: 12.570366971633014, Discriminator loss: 0.00011348656095352078, Satisfaction: 0.0\n"
     ]
    },
    {
     "name": "stderr",
     "output_type": "stream",
     "text": [
      "85it [00:02, 39.63it/s]                                                                                                                                     \n"
     ]
    },
    {
     "name": "stdout",
     "output_type": "stream",
     "text": [
      "Epoch 120 of 10000\n",
      "Generator loss: 12.883189751120174, Discriminator loss: 0.00010760883644038319, Satisfaction: 0.0\n"
     ]
    },
    {
     "name": "stderr",
     "output_type": "stream",
     "text": [
      "85it [00:02, 29.81it/s]                                                                                                                                     \n"
     ]
    },
    {
     "name": "stdout",
     "output_type": "stream",
     "text": [
      "Epoch 121 of 10000\n",
      "Generator loss: 12.280715493594899, Discriminator loss: 0.0001228540837901699, Satisfaction: 0.0\n"
     ]
    },
    {
     "name": "stderr",
     "output_type": "stream",
     "text": [
      "85it [00:03, 27.57it/s]                                                                                                                                     \n"
     ]
    },
    {
     "name": "stdout",
     "output_type": "stream",
     "text": [
      "Epoch 122 of 10000\n",
      "Generator loss: 12.880650228612563, Discriminator loss: 8.485738279191804e-05, Satisfaction: 0.0\n"
     ]
    },
    {
     "name": "stderr",
     "output_type": "stream",
     "text": [
      "85it [00:01, 53.60it/s]                                                                                                                                     \n"
     ]
    },
    {
     "name": "stdout",
     "output_type": "stream",
     "text": [
      "Epoch 123 of 10000\n",
      "Generator loss: 13.171011195463294, Discriminator loss: 0.00014082296083335464, Satisfaction: 0.0\n"
     ]
    },
    {
     "name": "stderr",
     "output_type": "stream",
     "text": [
      "85it [00:01, 52.10it/s]                                                                                                                                     \n"
     ]
    },
    {
     "name": "stdout",
     "output_type": "stream",
     "text": [
      "Epoch 124 of 10000\n",
      "Generator loss: 13.518390262828154, Discriminator loss: 6.637960853849483e-05, Satisfaction: 0.0\n"
     ]
    },
    {
     "name": "stderr",
     "output_type": "stream",
     "text": [
      "85it [00:01, 55.16it/s]                                                                                                                                     \n"
     ]
    },
    {
     "name": "stdout",
     "output_type": "stream",
     "text": [
      "Epoch 125 of 10000\n",
      "Generator loss: 13.809549410202925, Discriminator loss: 6.243234411693479e-05, Satisfaction: 0.0\n"
     ]
    },
    {
     "name": "stderr",
     "output_type": "stream",
     "text": [
      "85it [00:01, 56.86it/s]                                                                                                                                     \n"
     ]
    },
    {
     "name": "stdout",
     "output_type": "stream",
     "text": [
      "Epoch 126 of 10000\n",
      "Generator loss: 13.96398327771355, Discriminator loss: 5.804356136222315e-05, Satisfaction: 0.0\n"
     ]
    },
    {
     "name": "stderr",
     "output_type": "stream",
     "text": [
      "85it [00:01, 55.60it/s]                                                                                                                                     \n"
     ]
    },
    {
     "name": "stdout",
     "output_type": "stream",
     "text": [
      "Epoch 127 of 10000\n",
      "Generator loss: 14.135619522543514, Discriminator loss: 5.200928633926464e-05, Satisfaction: 0.0\n"
     ]
    },
    {
     "name": "stderr",
     "output_type": "stream",
     "text": [
      "85it [00:01, 44.15it/s]                                                                                                                                     \n"
     ]
    },
    {
     "name": "stdout",
     "output_type": "stream",
     "text": [
      "Epoch 128 of 10000\n",
      "Generator loss: 14.24859447479248, Discriminator loss: 5.566327884426916e-05, Satisfaction: 0.0\n"
     ]
    },
    {
     "name": "stderr",
     "output_type": "stream",
     "text": [
      "85it [00:01, 48.61it/s]                                                                                                                                     \n"
     ]
    },
    {
     "name": "stdout",
     "output_type": "stream",
     "text": [
      "Epoch 129 of 10000\n",
      "Generator loss: 14.400760673074162, Discriminator loss: 3.9852067857282236e-05, Satisfaction: 0.0\n"
     ]
    },
    {
     "name": "stderr",
     "output_type": "stream",
     "text": [
      "85it [00:02, 42.17it/s]                                                                                                                                     \n"
     ]
    },
    {
     "name": "stdout",
     "output_type": "stream",
     "text": [
      "Epoch 130 of 10000\n",
      "Generator loss: 14.462440400965074, Discriminator loss: 4.625327124171342e-05, Satisfaction: 0.0\n"
     ]
    },
    {
     "name": "stderr",
     "output_type": "stream",
     "text": [
      "85it [00:02, 41.93it/s]                                                                                                                                     \n"
     ]
    },
    {
     "name": "stdout",
     "output_type": "stream",
     "text": [
      "Epoch 131 of 10000\n",
      "Generator loss: 14.512207480037913, Discriminator loss: 3.959568402933655e-05, Satisfaction: 0.0\n"
     ]
    },
    {
     "name": "stderr",
     "output_type": "stream",
     "text": [
      "85it [00:01, 48.98it/s]                                                                                                                                     \n"
     ]
    },
    {
     "name": "stdout",
     "output_type": "stream",
     "text": [
      "Epoch 132 of 10000\n",
      "Generator loss: 14.724200259937959, Discriminator loss: 3.622369284344399e-05, Satisfaction: 0.0\n"
     ]
    },
    {
     "name": "stderr",
     "output_type": "stream",
     "text": [
      "85it [00:02, 40.80it/s]                                                                                                                                     \n"
     ]
    },
    {
     "name": "stdout",
     "output_type": "stream",
     "text": [
      "Epoch 133 of 10000\n",
      "Generator loss: 14.374241155736586, Discriminator loss: 7.137071321160286e-05, Satisfaction: 0.0\n"
     ]
    },
    {
     "name": "stderr",
     "output_type": "stream",
     "text": [
      "85it [00:01, 46.18it/s]                                                                                                                                     \n"
     ]
    },
    {
     "name": "stdout",
     "output_type": "stream",
     "text": [
      "Epoch 134 of 10000\n",
      "Generator loss: 12.804202966129079, Discriminator loss: 8.252203988377005e-05, Satisfaction: 0.0\n"
     ]
    },
    {
     "name": "stderr",
     "output_type": "stream",
     "text": [
      "85it [00:02, 39.15it/s]                                                                                                                                     \n"
     ]
    },
    {
     "name": "stdout",
     "output_type": "stream",
     "text": [
      "Epoch 135 of 10000\n",
      "Generator loss: 13.901639287612017, Discriminator loss: 5.900156163132873e-05, Satisfaction: 0.0\n"
     ]
    },
    {
     "name": "stderr",
     "output_type": "stream",
     "text": [
      "85it [00:02, 33.58it/s]                                                                                                                                     \n"
     ]
    },
    {
     "name": "stdout",
     "output_type": "stream",
     "text": [
      "Epoch 136 of 10000\n",
      "Generator loss: 14.381308275110582, Discriminator loss: 3.949919772661387e-05, Satisfaction: 0.0\n"
     ]
    },
    {
     "name": "stderr",
     "output_type": "stream",
     "text": [
      "85it [00:01, 45.39it/s]                                                                                                                                     \n"
     ]
    },
    {
     "name": "stdout",
     "output_type": "stream",
     "text": [
      "Epoch 137 of 10000\n",
      "Generator loss: 14.781777146283318, Discriminator loss: 3.339156900277457e-05, Satisfaction: 0.0\n"
     ]
    },
    {
     "name": "stderr",
     "output_type": "stream",
     "text": [
      "85it [00:02, 37.77it/s]                                                                                                                                     \n"
     ]
    },
    {
     "name": "stdout",
     "output_type": "stream",
     "text": [
      "Epoch 138 of 10000\n",
      "Generator loss: 15.222682638729319, Discriminator loss: 3.059098214233767e-05, Satisfaction: 0.0\n"
     ]
    },
    {
     "name": "stderr",
     "output_type": "stream",
     "text": [
      "  6%|███████▏                                                                                                                | 5/84 [00:00<00:02, 30.37it/s]\n"
     ]
    },
    {
     "ename": "KeyboardInterrupt",
     "evalue": "",
     "output_type": "error",
     "traceback": [
      "\u001b[0;31m---------------------------------------------------------------------------\u001b[0m",
      "\u001b[0;31mKeyboardInterrupt\u001b[0m                         Traceback (most recent call last)",
      "Input \u001b[0;32mIn [85]\u001b[0m, in \u001b[0;36m<cell line: 1>\u001b[0;34m()\u001b[0m\n\u001b[1;32m     15\u001b[0m \u001b[38;5;66;03m# train the generator network\u001b[39;00m\n\u001b[1;32m     16\u001b[0m \u001b[38;5;28;01mfor\u001b[39;00m _ \u001b[38;5;129;01min\u001b[39;00m \u001b[38;5;28mrange\u001b[39m(\u001b[38;5;241m1\u001b[39m):\n\u001b[0;32m---> 17\u001b[0m     loss_g_cur, sat_cur \u001b[38;5;241m=\u001b[39m \u001b[43mtrain_generator\u001b[49m\u001b[43m(\u001b[49m\u001b[43moptim_g\u001b[49m\u001b[43m,\u001b[49m\u001b[43m \u001b[49m\u001b[43mtemp\u001b[49m\u001b[43m,\u001b[49m\u001b[43m \u001b[49m\u001b[43mhard\u001b[49m\u001b[43m,\u001b[49m\u001b[43m \u001b[49m\u001b[43mb_size\u001b[49m\u001b[43m)\u001b[49m\n\u001b[1;32m     18\u001b[0m loss_g \u001b[38;5;241m+\u001b[39m\u001b[38;5;241m=\u001b[39m loss_g_cur\n\u001b[1;32m     19\u001b[0m sat \u001b[38;5;241m+\u001b[39m\u001b[38;5;241m=\u001b[39m sat_cur\n",
      "Input \u001b[0;32mIn [79]\u001b[0m, in \u001b[0;36mtrain_generator\u001b[0;34m(optimizer, temp, hard, b_size)\u001b[0m\n\u001b[1;32m     35\u001b[0m \u001b[38;5;66;03m#print(constraint_loss)\u001b[39;00m\n\u001b[1;32m     37\u001b[0m loss \u001b[38;5;241m=\u001b[39m adversarial_loss \u001b[38;5;241m+\u001b[39m constraint_loss\n\u001b[0;32m---> 39\u001b[0m \u001b[43mloss\u001b[49m\u001b[38;5;241;43m.\u001b[39;49m\u001b[43mbackward\u001b[49m\u001b[43m(\u001b[49m\u001b[43m)\u001b[49m\n\u001b[1;32m     40\u001b[0m optimizer\u001b[38;5;241m.\u001b[39mstep()\n\u001b[1;32m     42\u001b[0m \u001b[38;5;66;03m#loss_constraint = can_loss(data_fake)\u001b[39;00m\n\u001b[1;32m     43\u001b[0m \u001b[38;5;66;03m#loss_constraint.backward()\u001b[39;00m\n",
      "File \u001b[0;32m~/.local/share/virtualenvs/src-3aXnpWCD/lib/python3.9/site-packages/torch/_tensor.py:363\u001b[0m, in \u001b[0;36mTensor.backward\u001b[0;34m(self, gradient, retain_graph, create_graph, inputs)\u001b[0m\n\u001b[1;32m    354\u001b[0m \u001b[38;5;28;01mif\u001b[39;00m has_torch_function_unary(\u001b[38;5;28mself\u001b[39m):\n\u001b[1;32m    355\u001b[0m     \u001b[38;5;28;01mreturn\u001b[39;00m handle_torch_function(\n\u001b[1;32m    356\u001b[0m         Tensor\u001b[38;5;241m.\u001b[39mbackward,\n\u001b[1;32m    357\u001b[0m         (\u001b[38;5;28mself\u001b[39m,),\n\u001b[0;32m   (...)\u001b[0m\n\u001b[1;32m    361\u001b[0m         create_graph\u001b[38;5;241m=\u001b[39mcreate_graph,\n\u001b[1;32m    362\u001b[0m         inputs\u001b[38;5;241m=\u001b[39minputs)\n\u001b[0;32m--> 363\u001b[0m \u001b[43mtorch\u001b[49m\u001b[38;5;241;43m.\u001b[39;49m\u001b[43mautograd\u001b[49m\u001b[38;5;241;43m.\u001b[39;49m\u001b[43mbackward\u001b[49m\u001b[43m(\u001b[49m\u001b[38;5;28;43mself\u001b[39;49m\u001b[43m,\u001b[49m\u001b[43m \u001b[49m\u001b[43mgradient\u001b[49m\u001b[43m,\u001b[49m\u001b[43m \u001b[49m\u001b[43mretain_graph\u001b[49m\u001b[43m,\u001b[49m\u001b[43m \u001b[49m\u001b[43mcreate_graph\u001b[49m\u001b[43m,\u001b[49m\u001b[43m \u001b[49m\u001b[43minputs\u001b[49m\u001b[38;5;241;43m=\u001b[39;49m\u001b[43minputs\u001b[49m\u001b[43m)\u001b[49m\n",
      "File \u001b[0;32m~/.local/share/virtualenvs/src-3aXnpWCD/lib/python3.9/site-packages/torch/autograd/__init__.py:173\u001b[0m, in \u001b[0;36mbackward\u001b[0;34m(tensors, grad_tensors, retain_graph, create_graph, grad_variables, inputs)\u001b[0m\n\u001b[1;32m    168\u001b[0m     retain_graph \u001b[38;5;241m=\u001b[39m create_graph\n\u001b[1;32m    170\u001b[0m \u001b[38;5;66;03m# The reason we repeat same the comment below is that\u001b[39;00m\n\u001b[1;32m    171\u001b[0m \u001b[38;5;66;03m# some Python versions print out the first line of a multi-line function\u001b[39;00m\n\u001b[1;32m    172\u001b[0m \u001b[38;5;66;03m# calls in the traceback and some print out the last line\u001b[39;00m\n\u001b[0;32m--> 173\u001b[0m \u001b[43mVariable\u001b[49m\u001b[38;5;241;43m.\u001b[39;49m\u001b[43m_execution_engine\u001b[49m\u001b[38;5;241;43m.\u001b[39;49m\u001b[43mrun_backward\u001b[49m\u001b[43m(\u001b[49m\u001b[43m  \u001b[49m\u001b[38;5;66;43;03m# Calls into the C++ engine to run the backward pass\u001b[39;49;00m\n\u001b[1;32m    174\u001b[0m \u001b[43m    \u001b[49m\u001b[43mtensors\u001b[49m\u001b[43m,\u001b[49m\u001b[43m \u001b[49m\u001b[43mgrad_tensors_\u001b[49m\u001b[43m,\u001b[49m\u001b[43m \u001b[49m\u001b[43mretain_graph\u001b[49m\u001b[43m,\u001b[49m\u001b[43m \u001b[49m\u001b[43mcreate_graph\u001b[49m\u001b[43m,\u001b[49m\u001b[43m \u001b[49m\u001b[43minputs\u001b[49m\u001b[43m,\u001b[49m\n\u001b[1;32m    175\u001b[0m \u001b[43m    \u001b[49m\u001b[43mallow_unreachable\u001b[49m\u001b[38;5;241;43m=\u001b[39;49m\u001b[38;5;28;43;01mTrue\u001b[39;49;00m\u001b[43m,\u001b[49m\u001b[43m \u001b[49m\u001b[43maccumulate_grad\u001b[49m\u001b[38;5;241;43m=\u001b[39;49m\u001b[38;5;28;43;01mTrue\u001b[39;49;00m\u001b[43m)\u001b[49m\n",
      "\u001b[0;31mKeyboardInterrupt\u001b[0m: "
     ]
    }
   ],
   "source": [
    "for epoch in range(epochs):\n",
    "    loss_g = 0.0\n",
    "    loss_d = 0.0\n",
    "    sat = 0.0\n",
    "    temp = temperature\n",
    "    for bi, data in tqdm(enumerate(train_loader), total=int(len(train_data)/train_loader.batch_size)):\n",
    "        level = data\n",
    "        level = level.to(device)\n",
    "        b_size = len(level)\n",
    "        \n",
    "        # train the discriminator network\n",
    "        loss_d_cur, real_score, fake_score = train_discriminator(optim_d, level, temp, hard)\n",
    "        loss_d += loss_d_cur\n",
    "        \n",
    "        # train the generator network\n",
    "        for _ in range(1):\n",
    "            loss_g_cur, sat_cur = train_generator(optim_g, temp, hard, b_size)\n",
    "        loss_g += loss_g_cur\n",
    "        sat += sat_cur\n",
    "        \n",
    "        if bi % 100 == 1:\n",
    "            temp = np.maximum(temp * np.exp(-ANNEAL_RATE * bi), temp_min)\n",
    "        \n",
    "    # create the final fake image for the epoch\n",
    "    generated_level_probs, generated_level = generator(noise, temp, hard, gumbel=True)\n",
    "    generated_level = generated_level.cpu().detach()\n",
    "    # make the images as grid\n",
    "    #generated_level = transform_to_image_format(generated_level)\n",
    "    #generated_level = make_grid(generated_level)\n",
    "    # save the generated torch tensor models to disk\n",
    "    #save_generator_image(generated_level, f\"./outputs/gen_img{epoch}.png\")\n",
    "    images.append(generated_level)\n",
    "    epoch_loss_g = loss_g / (bi+1) # total generator loss for the epoch\n",
    "    epoch_loss_d = loss_d / (bi+1) # total discriminator loss for the epoch\n",
    "    epoch_sat = sat / (bi+1)\n",
    "    if epoch == 0 or (epoch_loss_g < losses_g[-1] and epoch_loss_d > losses_d[-1]):\n",
    "        torch.save(generator.state_dict(), f'./outputs/generators/5_19/generator_tanh_relu.pth')\n",
    "    losses_g.append(epoch_loss_g)\n",
    "    losses_d.append(epoch_loss_d)\n",
    "    #epoch_sat = satisfaction(generated_level)\n",
    "    sats.append(epoch_sat)\n",
    "    \n",
    "    print(f\"Epoch {epoch} of {epochs}\")\n",
    "    print(f\"Generator loss: {epoch_loss_g}, Discriminator loss: {epoch_loss_d}, Satisfaction: {epoch_sat}\")\n",
    "    "
   ]
  },
  {
   "cell_type": "code",
   "execution_count": null,
   "id": "e3cb1324",
   "metadata": {},
   "outputs": [],
   "source": [
    "#img_list = []\n",
    "#G_losses = []\n",
    "#D_losses = []\n",
    "#iters = 0\n",
    "\n",
    "#num_epochs = 10\n",
    "\n",
    "#print(\"Starting Training Loop...\")\n",
    "## For each epoch\n",
    "#for epoch in range(num_epochs):\n",
    "    # For each batch in the dataloader\n",
    "#    for i, data in enumerate(train_loader, 0):\n",
    "#\n",
    "#        ############################\n",
    "#        # (1) Update D network: maximize log(D(x)) + log(1 - D(G(z)))\n",
    "#        ###########################\n",
    "#        ## Train with all-real batch\n",
    "#        discriminator.zero_grad()\n",
    "        # Format batch\n",
    "#        real_cpu = data.to(device)\n",
    "#        b_size = real_cpu.size(0)\n",
    "#        label = torch.full((b_size,), real_label, dtype=torch.float, device=device)\n",
    "        # Forward pass real batch through D\n",
    "#        output = discriminator(real_cpu)\n",
    "#        print(\"output\", output.shape, output)\n",
    "#        print(\"output0\", output[0].shape, output[0])\n",
    "        # Calculate loss on all-real batch\n",
    "#        errD_real = criterion(output, label)\n",
    "        # Calculate gradients for D in backward pass\n",
    "#        errD_real.backward()\n",
    "#        D_x = output.mean().item()\n",
    "\n",
    "        ## Train with all-fake batch\n",
    "        # Generate batch of latent vectors\n",
    "#        noise = torch.randn(b_size, nz, 1, 1, device=device)\n",
    "        # Generate fake image batch with G\n",
    "#        fake = generator(noise)\n",
    "#        label.fill_(fake_label)\n",
    "        # Classify all fake batch with D\n",
    "#        output = discriminator(fake.detach()).view(-1)\n",
    "        # Calculate D's loss on the all-fake batch\n",
    "#        errD_fake = criterion(output, label)\n",
    "        # Calculate the gradients for this batch, accumulated (summed) with previous gradients\n",
    "#        errD_fake.backward()\n",
    "#        D_G_z1 = output.mean().item()\n",
    "        # Compute error of D as sum over the fake and the real batches\n",
    "#        errD = errD_real + errD_fake\n",
    "        # Update D\n",
    "#        optimizerD.step()\n",
    "\n",
    "        ############################\n",
    "        # (2) Update G network: maximize log(D(G(z)))\n",
    "        ###########################\n",
    "#        generator.zero_grad()\n",
    "#        label.fill_(real_label)  # fake labels are real for generator cost\n",
    "        # Since we just updated D, perform another forward pass of all-fake batch through D\n",
    "#        output = discriminator(fake).view(-1)\n",
    "        # Calculate G's loss based on this output\n",
    "#        errG = criterion(output, label)\n",
    "        # Calculate gradients for G\n",
    "#        errG.backward()\n",
    " #       D_G_z2 = output.mean().item()\n",
    "        # Update G\n",
    "#        optimizerG.step()\n",
    "\n",
    "        # Output training stats\n",
    "#        if i % 50 == 0:\n",
    "#            print('[%d/%d][%d/%d]\\tLoss_D: %.4f\\tLoss_G: %.4f\\tD(x): %.4f\\tD(G(z)): %.4f / %.4f'\n",
    " #                 % (epoch, num_epochs, i, len(dataloader),\n",
    "  #                   errD.item(), errG.item(), D_x, D_G_z1, D_G_z2))\n",
    "\n",
    "        # Save Losses for plotting later\n",
    "#        G_losses.append(errG.item())\n",
    "#        D_losses.append(errD.item())\n",
    "\n",
    "        # Check how the generator is doing by saving G's output on fixed_noise\n",
    "#        if (iters % 500 == 0) or ((epoch == num_epochs-1) and (i == len(dataloader)-1)):\n",
    "#            with torch.no_grad():\n",
    "#                fake = generator(fixed_noise).detach().cpu()\n",
    "#            img_list.append(vutils.make_grid(fake, padding=2, normalize=True))\n",
    "\n",
    " #       iters += 1"
   ]
  },
  {
   "cell_type": "code",
   "execution_count": 86,
   "id": "041d1363",
   "metadata": {},
   "outputs": [
    {
     "name": "stdout",
     "output_type": "stream",
     "text": [
      "DONE TRAINING\n"
     ]
    }
   ],
   "source": [
    "print('DONE TRAINING')\n",
    "torch.save(generator.state_dict(), './outputs/generators/5_19/generator_tanh_relu_final.pth')"
   ]
  },
  {
   "cell_type": "code",
   "execution_count": 87,
   "id": "15bc9a25",
   "metadata": {},
   "outputs": [
    {
     "name": "stdout",
     "output_type": "stream",
     "text": [
      "torch.Size([64, 10, 16, 11])\n",
      "torch.Size([64, 3, 16, 11])\n",
      "torch.Size([3, 146, 106])\n"
     ]
    }
   ],
   "source": [
    "# save the generated images as GIF file\n",
    "print(images[0].shape)\n",
    "transformed_images = [transform_to_image_format(img) for img in images]\n",
    "print(transformed_images[0].shape)\n",
    "grid_images = [make_grid(img) for img in transformed_images]\n",
    "print(grid_images[0].shape)\n",
    "imgs = [np.array(to_pil_image(img)) for img in grid_images]\n",
    "imageio.mimsave('./outputs/generators/5_19/generator_levels_tanh_relu.gif', imgs)"
   ]
  },
  {
   "cell_type": "code",
   "execution_count": 88,
   "id": "23fc7baa",
   "metadata": {},
   "outputs": [
    {
     "data": {
      "image/png": "[encoded data removed]",
      "text/plain": [
       "<Figure size 432x288 with 1 Axes>"
      ]
     },
     "metadata": {},
     "output_type": "display_data"
    },
    {
     "data": {
      "image/png": "[encoded data removed]",
      "text/plain": [
       "<Figure size 432x288 with 1 Axes>"
      ]
     },
     "metadata": {},
     "output_type": "display_data"
    },
    {
     "data": {
      "image/png": "[encoded data removed]",
      "text/plain": [
       "<Figure size 432x288 with 1 Axes>"
      ]
     },
     "metadata": {},
     "output_type": "display_data"
    }
   ],
   "source": [
    "# plot and save the generator and discriminator loss\n",
    "plt.figure()\n",
    "plt.plot(losses_g, label='Generator loss')\n",
    "plt.plot(losses_d, label='Discriminator Loss')\n",
    "plt.legend()\n",
    "plt.yscale('log')\n",
    "plt.savefig('./outputs/generators/5_19/tanh_relu_loss.png')\n",
    "plt.figure()\n",
    "plt.plot(losses_d, label='Discriminator Loss')\n",
    "plt.savefig('./outputs/generators/5_19/tanh_relu_loss_d.png')\n",
    "plt.figure()\n",
    "plt.plot(sats, label='Constraint satisfaction')\n",
    "plt.yscale('log')\n",
    "plt.savefig('./outputs/generators/5_19/tanh_relu_sat.png')"
   ]
  },
  {
   "cell_type": "code",
   "execution_count": null,
   "id": "d190a7e0",
   "metadata": {},
   "outputs": [],
   "source": []
  },
  {
   "cell_type": "code",
   "execution_count": null,
   "id": "356d0156",
   "metadata": {},
   "outputs": [],
   "source": []
  },
  {
   "cell_type": "code",
   "execution_count": null,
   "id": "0eb520e9",
   "metadata": {},
   "outputs": [],
   "source": []
  },
  {
   "cell_type": "code",
   "execution_count": null,
   "id": "8cdc605f",
   "metadata": {},
   "outputs": [],
   "source": []
  },
  {
   "cell_type": "code",
   "execution_count": null,
   "id": "41b31f94",
   "metadata": {},
   "outputs": [],
   "source": []
  },
  {
   "cell_type": "code",
   "execution_count": null,
   "id": "45f2dfdf",
   "metadata": {},
   "outputs": [],
   "source": []
  },
  {
   "cell_type": "code",
   "execution_count": null,
   "id": "1d4b2a7b",
   "metadata": {},
   "outputs": [],
   "source": []
  }
 ],
 "metadata": {
  "kernelspec": {
   "display_name": "thesis-env",
   "language": "python",
   "name": "thesis-env"
  },
  "language_info": {
   "codemirror_mode": {
    "name": "ipython",
    "version": 3
   },
   "file_extension": ".py",
   "mimetype": "text/x-python",
   "name": "python",
   "nbconvert_exporter": "python",
   "pygments_lexer": "ipython3",
   "version": "3.9.12"
  }
 },
 "nbformat": 4,
 "nbformat_minor": 5
}
